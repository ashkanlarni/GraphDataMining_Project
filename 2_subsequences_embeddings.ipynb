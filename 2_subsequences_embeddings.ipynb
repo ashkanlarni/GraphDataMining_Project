{
 "cells": [
  {
   "cell_type": "markdown",
   "metadata": {},
   "source": [
    "# Import(s)"
   ]
  },
  {
   "cell_type": "code",
   "execution_count": null,
   "metadata": {
    "ExecuteTime": {
     "end_time": "2025-05-14T05:30:02.758854Z",
     "start_time": "2025-05-14T05:30:02.756806Z"
    }
   },
   "outputs": [],
   "source": [
    "import torch\n",
    "import torch.nn as nn\n",
    "import torch.nn.functional as F\n",
    "from torch.utils.data import DataLoader, TensorDataset, random_split\n",
    "import pandas as pd\n",
    "import numpy as np\n",
    "from functools import lru_cache # For caching DTW results\n",
    "\n",
    "from dtaidistance import dtw\n",
    "\n",
    "from sklearn.manifold import TSNE\n",
    "from sklearn.metrics import silhouette_score\n",
    "from sklearn.cluster import MiniBatchKMeans # Using MiniBatchKMeans for speed on large embedding sets\n",
    "import matplotlib.pyplot as plt\n",
    "import os "
   ]
  },
  {
   "cell_type": "markdown",
   "metadata": {},
   "source": [
    "# Config"
   ]
  },
  {
   "cell_type": "code",
   "execution_count": null,
   "metadata": {
    "ExecuteTime": {
     "end_time": "2025-05-14T05:30:02.814942Z",
     "start_time": "2025-05-14T05:30:02.811914Z"
    }
   },
   "outputs": [
    {
     "name": "stdout",
     "output_type": "stream",
     "text": [
      "Using device: cuda\n"
     ]
    }
   ],
   "source": [
    "SYMBOL = 'BTCUSDT'\n",
    "WINDOW_SIZE = 20  # Input dimension for VAE\n",
    "LATENT_DIM = 5    # Desired embedding dimension\n",
    "STRIDE = 5        # Stride used when generating subsequences (for filenames)\n",
    "\n",
    "# Training Hyperparameters\n",
    "BATCH_SIZE = 64\n",
    "EPOCHS = 20\n",
    "LEARNING_RATE = 1e-3\n",
    "BETA_KLD = 1.0\n",
    "GAMMA_DTW_TRIPLET = 0.1\n",
    "MARGIN = 1.0\n",
    "PRINT_EVERY = 1000 \n",
    "# GAMMA_EUCLIDEAN_TRIPLET = 0.0 # Weight for Euclidean-based triplet loss on latent space. Start with 0.\n",
    "\n",
    "# Early Stopping\n",
    "PATIENCE = 5      \n",
    "MIN_DELTA = 1e-5  # Minimum change to qualify as an improvement\n",
    "\n",
    "# Paths\n",
    "DATA_DIR = 'data'\n",
    "SUBSEQUENCE_DIR = os.path.join(DATA_DIR, 'subsequences')\n",
    "EMBEDDING_DIR = os.path.join(DATA_DIR, 'embeddings')\n",
    "MODEL_DIR = os.path.join(DATA_DIR, 'autoencoder_models')\n",
    "\n",
    "# Create directories if they don't exist\n",
    "os.makedirs(SUBSEQUENCE_DIR, exist_ok=True)\n",
    "os.makedirs(EMBEDDING_DIR, exist_ok=True)\n",
    "os.makedirs(MODEL_DIR, exist_ok=True)\n",
    "\n",
    "# File names\n",
    "subsequence_filename = f'subseq_{SYMBOL}_ws={WINDOW_SIZE}_stride={STRIDE}.csv'\n",
    "subsequence_filepath = os.path.join(SUBSEQUENCE_DIR, subsequence_filename)\n",
    "\n",
    "best_model_path = os.path.join(MODEL_DIR, f'best_vae_dtw_shape_{SYMBOL}_ws{WINDOW_SIZE}_ld{LATENT_DIM}.pt')\n",
    "final_embeddings_path = os.path.join(EMBEDDING_DIR, f'embed_vae_dtw_shape_{SYMBOL}_ws{WINDOW_SIZE}_ld{LATENT_DIM}.csv')\n",
    "\n",
    "# Device\n",
    "device = torch.device(\"cuda\" if torch.cuda.is_available() else \"cpu\")\n",
    "print(f\"Using device: {device}\")"
   ]
  },
  {
   "cell_type": "markdown",
   "metadata": {},
   "source": [
    "# Load Original Subsequences & Build Indexed Dataset"
   ]
  },
  {
   "cell_type": "code",
   "execution_count": null,
   "metadata": {
    "ExecuteTime": {
     "end_time": "2025-05-14T05:30:03.837743Z",
     "start_time": "2025-05-14T05:30:02.815451Z"
    }
   },
   "outputs": [
    {
     "name": "stdout",
     "output_type": "stream",
     "text": [
      "Loading subsequences from: data/subsequences/subseq_BTCUSDT_ws=20_stride=5.csv\n",
      "Successfully loaded 759789 subsequences, each of length 20.\n"
     ]
    }
   ],
   "source": [
    "print(f\"Loading subsequences from: {subsequence_filepath}\")\n",
    "if not os.path.exists(subsequence_filepath):\n",
    "    print(f\"ERROR: Subsequence file not found at {subsequence_filepath}\")\n",
    "    print(\"Please ensure your 'data_processing.ipynb' (or equivalent) has been run to generate this file.\")\n",
    "\n",
    "subseq_df = pd.read_csv(subsequence_filepath)\n",
    "data_np = subseq_df.values.astype(np.float32) # 20-dimensional original subsequences\n",
    "\n",
    "# Create global indices for each subsequence\n",
    "indices_np = np.arange(len(data_np), dtype=np.int64)\n",
    "\n",
    "# TensorDataset:\n",
    "# - First tensor:  the actual subsequence data \n",
    "# - Second tensor: the global index of each subsequence (for DTW caching)\n",
    "dataset = TensorDataset(\n",
    "    torch.from_numpy(data_np),      \n",
    "    torch.from_numpy(indices_np) \n",
    ")\n",
    "print(f\"Successfully loaded {len(dataset)} subsequences, each of length {data_np.shape[1]}.\")"
   ]
  },
  {
   "cell_type": "markdown",
   "metadata": {},
   "source": [
    "## Train/Validation Split"
   ]
  },
  {
   "cell_type": "code",
   "execution_count": 7,
   "metadata": {
    "ExecuteTime": {
     "end_time": "2025-05-14T05:30:03.860229Z",
     "start_time": "2025-05-14T05:30:03.838302Z"
    }
   },
   "outputs": [
    {
     "name": "stdout",
     "output_type": "stream",
     "text": [
      "Training dataset size:  \t607832\n",
      "Validation dataset size:\t151957\n"
     ]
    }
   ],
   "source": [
    "val_frac = 0.2\n",
    "n_total = len(dataset)\n",
    "n_val = int(n_total * val_frac)\n",
    "n_train = n_total - n_val\n",
    "\n",
    "train_ds, val_ds = random_split(dataset, [n_train, n_val])\n",
    "print(f\"Training dataset size:  \\t{len(train_ds)}\")\n",
    "print(f\"Validation dataset size:\\t{len(val_ds)}\")"
   ]
  },
  {
   "cell_type": "markdown",
   "metadata": {},
   "source": [
    "## DataLoaders"
   ]
  },
  {
   "cell_type": "code",
   "execution_count": null,
   "metadata": {
    "ExecuteTime": {
     "end_time": "2025-05-14T05:30:03.862892Z",
     "start_time": "2025-05-14T05:30:03.860684Z"
    }
   },
   "outputs": [
    {
     "name": "stdout",
     "output_type": "stream",
     "text": [
      "Train loader:      9497 batches of size 64 (with drop_last=True)\n",
      "Validation loader: 2375 batches of size 64 (with drop_last=False)\n"
     ]
    }
   ],
   "source": [
    "train_loader = DataLoader(train_ds, batch_size=BATCH_SIZE, shuffle=True, drop_last=True)\n",
    "val_loader   = DataLoader(val_ds,   batch_size=BATCH_SIZE, shuffle=False, drop_last=False)\n",
    "\n",
    "print(f\"Train loader:      {len(train_loader)} batches of size {BATCH_SIZE} (with drop_last=True)\")\n",
    "print(f\"Validation loader: {len(val_loader)} batches of size {BATCH_SIZE} (with drop_last=False)\")"
   ]
  },
  {
   "cell_type": "code",
   "execution_count": null,
   "metadata": {
    "ExecuteTime": {
     "end_time": "2025-05-14T05:30:03.881878Z",
     "start_time": "2025-05-14T05:30:03.863615Z"
    }
   },
   "outputs": [
    {
     "name": "stdout",
     "output_type": "stream",
     "text": [
      "Sample batch data shape:    torch.Size([64, 20])\n",
      "Sample batch indices shape: torch.Size([64])\n",
      "Sample indices:             tensor([587967, 441696, 705267, 162173, 590297])\n"
     ]
    }
   ],
   "source": [
    "# Test one batch from train_loader\n",
    "try:\n",
    "    sample_batch_data, sample_batch_indices = next(iter(train_loader))\n",
    "    print(f\"Sample batch data shape:    {sample_batch_data.shape}\")     \n",
    "    print(f\"Sample batch indices shape: {sample_batch_indices.shape}\") \n",
    "    print(f\"Sample indices:             {sample_batch_indices[:5]}\") \n",
    "except StopIteration:\n",
    "    print(\"ERROR: DataLoader is empty.\")\n"
   ]
  },
  {
   "cell_type": "markdown",
   "metadata": {},
   "source": [
    "# Define VAE Model"
   ]
  },
  {
   "cell_type": "code",
   "execution_count": null,
   "metadata": {
    "ExecuteTime": {
     "end_time": "2025-05-14T05:30:03.888988Z",
     "start_time": "2025-05-14T05:30:03.882315Z"
    }
   },
   "outputs": [],
   "source": [
    "class VAE_DTW(nn.Module):\n",
    "    def __init__(self, input_dim=WINDOW_SIZE, hidden_dim1=64, hidden_dim2=32, latent_dim=LATENT_DIM): # Made it a bit deeper\n",
    "        super(VAE_DTW, self).__init__()\n",
    "        self.input_dim = input_dim\n",
    "        self.latent_dim = latent_dim\n",
    "\n",
    "        # Encoder\n",
    "        self.enc_fc1 = nn.Linear(input_dim, hidden_dim1)\n",
    "        self.enc_fc2 = nn.Linear(hidden_dim1, hidden_dim2)\n",
    "        self.enc_fc_mu = nn.Linear(hidden_dim2, latent_dim)\n",
    "        self.enc_fc_log_var = nn.Linear(hidden_dim2, latent_dim)\n",
    "\n",
    "        # Decoder\n",
    "        self.dec_fc1 = nn.Linear(latent_dim, hidden_dim2)\n",
    "        self.dec_fc2 = nn.Linear(hidden_dim2, hidden_dim1)\n",
    "        self.dec_fc3 = nn.Linear(hidden_dim1, input_dim)\n",
    "        \n",
    "        print(f\"VAE_DTW Model Initialized: InputDim={input_dim}, LatentDim={latent_dim}, Hidden1={hidden_dim1}, Hidden2={hidden_dim2}\")\n",
    "\n",
    "\n",
    "    def encode(self, x):\n",
    "        h1 = F.relu(self.enc_fc1(x))\n",
    "        h2 = F.relu(self.enc_fc2(h1))\n",
    "        return self.enc_fc_mu(h2), self.enc_fc_log_var(h2)\n",
    "\n",
    "    def reparameterize(self, mu, log_var):\n",
    "        std = torch.exp(0.5 * log_var)\n",
    "        eps = torch.randn_like(std).to(device) \n",
    "        return mu + eps * std\n",
    "\n",
    "    def decode(self, z):\n",
    "        h1 = F.relu(self.dec_fc1(z))\n",
    "        h2 = F.relu(self.dec_fc2(h1))\n",
    "        return self.dec_fc3(h2) \n",
    "\n",
    "    def forward(self, x):\n",
    "        mu, log_var = self.encode(x.view(-1, self.input_dim))\n",
    "        z_sampled = self.reparameterize(mu, log_var) # Sampled latent point for reconstruction\n",
    "        reconstruction = self.decode(z_sampled)\n",
    "        # Use mu (the mean of the distribution) as the representative embedding for triplet loss\n",
    "        return reconstruction, mu, log_var, mu"
   ]
  },
  {
   "cell_type": "markdown",
   "metadata": {},
   "source": [
    "## DTW Cache & Triplet Mining"
   ]
  },
  {
   "cell_type": "code",
   "execution_count": null,
   "metadata": {
    "ExecuteTime": {
     "end_time": "2025-05-14T05:30:03.895726Z",
     "start_time": "2025-05-14T05:30:03.889418Z"
    }
   },
   "outputs": [],
   "source": [
    "# Global cache for DTW distances.\n",
    "# data_np is the numpy array of original subsequences.\n",
    "\n",
    "if 'data_np' not in globals():\n",
    "    print(\"Reloading data_np for DTW cache...\")\n",
    "    if not os.path.exists(subsequence_filepath):\n",
    "        raise FileNotFoundError(f\"Subsequence file not found: {subsequence_filepath}.\")\n",
    "    _subseq_df_temp = pd.read_csv(subsequence_filepath)\n",
    "    data_np = _subseq_df_temp.values.astype(np.float32)\n",
    "    print(\"data_np reloaded.\")"
   ]
  },
  {
   "cell_type": "code",
   "execution_count": null,
   "metadata": {
    "ExecuteTime": {
     "end_time": "2025-05-14T05:30:03.900466Z",
     "start_time": "2025-05-14T05:30:03.896183Z"
    }
   },
   "outputs": [],
   "source": [
    "@lru_cache(maxsize=200000)\n",
    "def dtw_distance_cached(global_idx1, global_idx2):\n",
    "    \"\"\"\n",
    "    Computes DTW distance between two globally indexed subsequences, using a cache.\n",
    "    Ensures indices are ordered to maximize cache hits for symmetric calls.\n",
    "    \"\"\"\n",
    "    idx1, idx2 = min(global_idx1, global_idx2), max(global_idx1, global_idx2)\n",
    "\n",
    "    seq1 = np.ascontiguousarray(data_np[idx1], dtype=np.double)\n",
    "    seq2 = np.ascontiguousarray(data_np[idx2], dtype=np.double)\n",
    "    \n",
    "    distance = dtw.distance_fast(seq1, seq2, use_pruning=True)\n",
    "    return distance"
   ]
  },
  {
   "cell_type": "code",
   "execution_count": null,
   "metadata": {
    "ExecuteTime": {
     "end_time": "2025-05-14T05:30:03.905618Z",
     "start_time": "2025-05-14T05:30:03.900867Z"
    }
   },
   "outputs": [],
   "source": [
    "def mine_dtw_triplets_from_batch_indices(batch_global_indices_np, # numpy array of global indices\n",
    "                                         latent_embeddings_batch, # Pytorch tensor of latent embeddings (mu) for this batch\n",
    "                                         k_positive=1,\n",
    "                                         k_negative=1):\n",
    "    \"\"\"\n",
    "    Mines triplets based on DTW distances of original subsequences for the current batch.\n",
    "    Args:\n",
    "        batch_global_indices_np: NumPy array of global indices for the current batch.\n",
    "        latent_embeddings_batch: PyTorch tensor of latent embeddings (e.g., mu) for the current batch.\n",
    "        k_positive:              How many of the closest  DTW neighbors to consider as positives.\n",
    "        k_negative:              How many of the furthest DTW neighbors to consider as negatives.\n",
    "    Returns:\n",
    "        Tuple of (anchor_latents, positive_latents, negative_latents) as PyTorch tensors.\n",
    "    \"\"\"\n",
    "    current_batch_size = len(batch_global_indices_np)\n",
    "    if current_batch_size < 3:\n",
    "        return None, None, None\n",
    "\n",
    "    anchors_latent_list = []\n",
    "    positives_latent_list = []\n",
    "    negatives_latent_list = []\n",
    "\n",
    "    for local_anchor_idx in range(current_batch_size):\n",
    "        global_anchor_idx = batch_global_indices_np[local_anchor_idx]\n",
    "        \n",
    "        dtw_distances_to_anchor = []\n",
    "        for local_other_idx in range(current_batch_size):\n",
    "            if local_anchor_idx == local_other_idx:\n",
    "                continue\n",
    "            global_other_idx = batch_global_indices_np[local_other_idx]\n",
    "            dist = dtw_distance_cached(global_anchor_idx, global_other_idx)\n",
    "            dtw_distances_to_anchor.append({'distance': dist, 'local_idx': local_other_idx})\n",
    "\n",
    "        if not dtw_distances_to_anchor:\n",
    "            continue\n",
    "\n",
    "        # Sort by DTW distance\n",
    "        dtw_distances_to_anchor.sort(key=lambda x: x['distance'])\n",
    "\n",
    "        # Select positives\n",
    "        current_positives_local_indices = []\n",
    "        for i in range(min(k_positive, len(dtw_distances_to_anchor))):\n",
    "            current_positives_local_indices.append(dtw_distances_to_anchor[i]['local_idx'])\n",
    "\n",
    "        # Select negatives\n",
    "        current_negatives_local_indices = []\n",
    "        for i in range(min(k_negative, len(dtw_distances_to_anchor))):\n",
    "            current_negatives_local_indices.append(dtw_distances_to_anchor[-(i+1)]['local_idx'])\n",
    "        \n",
    "        # Create triplets\n",
    "        anchor_latent_embedding = latent_embeddings_batch[local_anchor_idx]\n",
    "        for local_pos_idx in current_positives_local_indices:\n",
    "            for local_neg_idx in current_negatives_local_indices:\n",
    "                if local_pos_idx != local_neg_idx: # Ensure positive and negative are different\n",
    "                    anchors_latent_list.append(anchor_latent_embedding)\n",
    "                    positives_latent_list.append(latent_embeddings_batch[local_pos_idx])\n",
    "                    negatives_latent_list.append(latent_embeddings_batch[local_neg_idx])\n",
    "\n",
    "    if not anchors_latent_list:\n",
    "        return None, None, None\n",
    "\n",
    "    return torch.stack(anchors_latent_list), torch.stack(positives_latent_list), torch.stack(negatives_latent_list)"
   ]
  },
  {
   "cell_type": "code",
   "execution_count": null,
   "metadata": {
    "ExecuteTime": {
     "end_time": "2025-05-14T05:30:03.912050Z",
     "start_time": "2025-05-14T05:30:03.905990Z"
    }
   },
   "outputs": [
    {
     "name": "stdout",
     "output_type": "stream",
     "text": [
      "VAE_DTW class and DTW utility functions defined.\n",
      "Test DTW distance between subsequence 0 and 1:          0.00730533242015081\n",
      "Test DTW distance (cached) between subsequence 0 and 1: 0.00730533242015081\n",
      "Test DTW distance (cached) between subsequence 1 and 0: 0.00730533242015081\n"
     ]
    }
   ],
   "source": [
    "print(\"VAE_DTW class and DTW utility functions defined.\")\n",
    "\n",
    "if 'data_np' in globals() and len(data_np) > 1:\n",
    "    dist_test = dtw_distance_cached(0, 1)\n",
    "    print(f\"Test DTW distance between subsequence 0 and 1:          {dist_test}\")\n",
    "    dist_test_cached = dtw_distance_cached(0, 1)\n",
    "    print(f\"Test DTW distance (cached) between subsequence 0 and 1: {dist_test_cached}\")\n",
    "    dist_test_rev = dtw_distance_cached(1,0)\n",
    "    print(f\"Test DTW distance (cached) between subsequence 1 and 0: {dist_test_rev}\")\n",
    "\n",
    "\n",
    "else:\n",
    "    print(\"Skipping dtw_cache test as data_np is not loaded or has too few samples.\")"
   ]
  },
  {
   "cell_type": "markdown",
   "metadata": {},
   "source": [
    "# Initialize Model, Define Combined Loss, and Optimizer"
   ]
  },
  {
   "cell_type": "code",
   "execution_count": 15,
   "metadata": {
    "ExecuteTime": {
     "end_time": "2025-05-14T05:30:04.854937Z",
     "start_time": "2025-05-14T05:30:03.912838Z"
    }
   },
   "outputs": [
    {
     "name": "stdout",
     "output_type": "stream",
     "text": [
      "VAE_DTW Model Initialized: InputDim=20, LatentDim=5, Hidden1=64, Hidden2=32\n",
      "Model and optimizer initialized.\n",
      "VAE_DTW(\n",
      "  (enc_fc1): Linear(in_features=20, out_features=64, bias=True)\n",
      "  (enc_fc2): Linear(in_features=64, out_features=32, bias=True)\n",
      "  (enc_fc_mu): Linear(in_features=32, out_features=5, bias=True)\n",
      "  (enc_fc_log_var): Linear(in_features=32, out_features=5, bias=True)\n",
      "  (dec_fc1): Linear(in_features=5, out_features=32, bias=True)\n",
      "  (dec_fc2): Linear(in_features=32, out_features=64, bias=True)\n",
      "  (dec_fc3): Linear(in_features=64, out_features=20, bias=True)\n",
      ")\n"
     ]
    }
   ],
   "source": [
    "model = VAE_DTW(input_dim=WINDOW_SIZE, latent_dim=LATENT_DIM).to(device)\n",
    "optimizer = torch.optim.Adam(model.parameters(), lr=LEARNING_RATE)\n",
    "\n",
    "# For tracking best model\n",
    "best_val_loss = float('inf')\n",
    "epochs_no_improve = 0\n",
    "\n",
    "print(\"Model and optimizer initialized.\")\n",
    "print(model)"
   ]
  },
  {
   "cell_type": "code",
   "execution_count": null,
   "metadata": {
    "ExecuteTime": {
     "end_time": "2025-05-14T05:30:04.859047Z",
     "start_time": "2025-05-14T05:30:04.855399Z"
    }
   },
   "outputs": [
    {
     "name": "stdout",
     "output_type": "stream",
     "text": [
      "Combined loss function defined.\n"
     ]
    }
   ],
   "source": [
    "def calculate_combined_loss(original_sequences,      # Batch of original 20-dim sequences\n",
    "                            batch_global_indices_np, # NumPy array of global indices for the batch\n",
    "                            reconstructed_sequences,\n",
    "                            mu,\n",
    "                            log_var,\n",
    "                            latent_embeddings, # These are the 'mu' vectors from VAE forward pass\n",
    "                            epoch, # Current epoch, for potential annealing or conditional logic\n",
    "                            dtw_triplet_k_positive=1,\n",
    "                            dtw_triplet_k_negative=1):\n",
    "    \"\"\"\n",
    "    Calculates the combined VAE loss (Reconstruction + KLD) and\n",
    "    the DTW-guided triplet loss.\n",
    "    \"\"\"\n",
    "    # VAE Reconstruction Loss (per sample)\n",
    "    recon_loss = F.mse_loss(reconstructed_sequences, original_sequences, reduction='mean')\n",
    "\n",
    "    # VAE KL Divergence Loss (per sample): sum over latent dimensions, then mean over batch dimension\n",
    "    kld_loss = -0.5 * torch.sum(1 + log_var - mu.pow(2) - log_var.exp(), dim=1).mean()\n",
    "\n",
    "    # DTW-Based Triplet Loss (per triplet found)\n",
    "    dtw_triplet_loss_value = torch.tensor(0.0).to(device)\n",
    "    num_valid_triplets = 0\n",
    "\n",
    "    if GAMMA_DTW_TRIPLET > 0 : # Only compute if its weight is positive\n",
    "        # Mine triplets using DTW on original sequences, get corresponding latent embeddings\n",
    "        anchors_latent, positives_latent, negatives_latent = mine_dtw_triplets_from_batch_indices(\n",
    "            batch_global_indices_np,\n",
    "            latent_embeddings, \n",
    "            k_positive=dtw_triplet_k_positive,\n",
    "            k_negative=dtw_triplet_k_negative\n",
    "        )\n",
    "\n",
    "        if anchors_latent is not None and positives_latent is not None and negatives_latent is not None:\n",
    "            if anchors_latent.shape[0] > 0:\n",
    "                dtw_triplet_loss_value = F.triplet_margin_loss(\n",
    "                    anchors_latent,\n",
    "                    positives_latent,\n",
    "                    negatives_latent,\n",
    "                    margin=MARGIN,\n",
    "                    p=2,\n",
    "                    reduction='mean'\n",
    "                )\n",
    "                num_valid_triplets = anchors_latent.shape[0]\n",
    "            else:\n",
    "                dtw_triplet_loss_value = torch.tensor(0.0).to(device)   # No triplets, no loss\n",
    "        else:\n",
    "            dtw_triplet_loss_value = torch.tensor(0.0).to(device)       # No triplets, no loss\n",
    "\n",
    "    GAMMA_EUCLIDEAN_TRIPLET = 0.0 # Explicitly keeping it off for now\n",
    "    euclidean_triplet_loss_value = torch.tensor(0.0).to(device)\n",
    "\n",
    "\n",
    "    total_loss = recon_loss + BETA_KLD * kld_loss + \\\n",
    "                 GAMMA_DTW_TRIPLET * dtw_triplet_loss_value + \\\n",
    "                 GAMMA_EUCLIDEAN_TRIPLET * euclidean_triplet_loss_value\n",
    "\n",
    "    return total_loss, recon_loss, kld_loss, dtw_triplet_loss_value, num_valid_triplets\n",
    "\n",
    "print(\"Combined loss function defined.\")"
   ]
  },
  {
   "cell_type": "code",
   "execution_count": 17,
   "metadata": {
    "ExecuteTime": {
     "end_time": "2025-05-14T05:30:05.055540Z",
     "start_time": "2025-05-14T05:30:04.860141Z"
    }
   },
   "outputs": [
    {
     "name": "stdout",
     "output_type": "stream",
     "text": [
      "Test forward pass: \n",
      "    Input shape:                      torch.Size([64, 20])\n",
      "    Reconstruction shape:             torch.Size([64, 20])\n",
      "    Mu shape:                         torch.Size([64, 5])\n",
      "    LogVar shape:                     torch.Size([64, 5])\n",
      "    Latent (mu for triplet) shape:    torch.Size([64, 5])\n",
      "Test combined loss: 1.2835 (Recon: 1.1144, KLD: 0.0967, DTW_Triplet: 0.7242 from 64 triplets)\n"
     ]
    }
   ],
   "source": [
    "# Test the forward pass of the model with a sample batch\n",
    "if len(train_ds) >= BATCH_SIZE :\n",
    "    model.eval() # Set to eval for a test forward pass\n",
    "    with torch.no_grad():\n",
    "        sample_data, sample_indices_global = next(iter(train_loader))\n",
    "        sample_data = sample_data.to(device)\n",
    "        sample_indices_global_np = sample_indices_global.cpu().numpy()\n",
    "\n",
    "        recon_test, mu_test, log_var_test, latent_mu_test = model(sample_data)\n",
    "        print(f\"Test forward pass: \")\n",
    "        print(f\"    Input shape:                      {sample_data.shape}\")\n",
    "        print(f\"    Reconstruction shape:             {recon_test.shape}\")\n",
    "        print(f\"    Mu shape:                         {mu_test.shape}\")\n",
    "        print(f\"    LogVar shape:                     {log_var_test.shape}\")\n",
    "        print(f\"    Latent (mu for triplet) shape:    {latent_mu_test.shape}\")\n",
    "\n",
    "        # Test combined loss function\n",
    "        total_loss_test, recon_l, kld_l, dtw_t_l, num_trips = calculate_combined_loss(\n",
    "            sample_data, sample_indices_global_np, recon_test, mu_test, log_var_test, latent_mu_test, epoch=0\n",
    "        )\n",
    "        print(f\"Test combined loss: {total_loss_test.item():.4f} (Recon: {recon_l.item():.4f}, KLD: {kld_l.item():.4f}, DTW_Triplet: {dtw_t_l.item():.4f} from {num_trips} triplets)\")\n",
    "else:\n",
    "    print(\"Skipping model forward pass and loss test due to insufficient data in train_ds for a full batch.\")\n"
   ]
  },
  {
   "cell_type": "markdown",
   "metadata": {},
   "source": [
    "# Training Loop"
   ]
  },
  {
   "cell_type": "code",
   "execution_count": null,
   "metadata": {
    "ExecuteTime": {
     "end_time": "2025-05-14T06:19:58.985225Z",
     "start_time": "2025-05-14T05:30:05.056011Z"
    }
   },
   "outputs": [
    {
     "name": "stdout",
     "output_type": "stream",
     "text": [
      "Starting training for 20 epochs...\n",
      "Device: cuda\n",
      "Batch Size: 64\n",
      "Learning Rate: 0.001\n",
      "KLD Beta: 1.0\n",
      "DTW Triplet Gamma: 0.1\n",
      "  Epoch [1/20], Batch [1000/9497], AvgBatchLoss: 0.9621 (R: 0.5173, KLD: 0.4448, DTW_T: 0.0000 (64 trips))\n",
      "  Epoch [1/20], Batch [2000/9497], AvgBatchLoss: 0.9708 (R: 0.6052, KLD: 0.3649, DTW_T: 0.0065 (64 trips))\n",
      "  Epoch [1/20], Batch [3000/9497], AvgBatchLoss: 0.8580 (R: 0.4885, KLD: 0.3695, DTW_T: 0.0000 (64 trips))\n",
      "  Epoch [1/20], Batch [4000/9497], AvgBatchLoss: 0.7424 (R: 0.3899, KLD: 0.3524, DTW_T: 0.0007 (64 trips))\n",
      "  Epoch [1/20], Batch [5000/9497], AvgBatchLoss: 0.8981 (R: 0.4940, KLD: 0.4041, DTW_T: 0.0000 (64 trips))\n",
      "  Epoch [1/20], Batch [6000/9497], AvgBatchLoss: 0.8663 (R: 0.4728, KLD: 0.3935, DTW_T: 0.0000 (64 trips))\n",
      "  Epoch [1/20], Batch [7000/9497], AvgBatchLoss: 0.6608 (R: 0.3103, KLD: 0.3505, DTW_T: 0.0000 (64 trips))\n",
      "  Epoch [1/20], Batch [8000/9497], AvgBatchLoss: 0.9047 (R: 0.5597, KLD: 0.3450, DTW_T: 0.0000 (64 trips))\n",
      "  Epoch [1/20], Batch [9000/9497], AvgBatchLoss: 0.7888 (R: 0.4091, KLD: 0.3796, DTW_T: 0.0000 (64 trips))\n",
      "--- Epoch [1/20] SUMMARY ---\n",
      "  Avg Train Loss: 0.8414 (Recon: 0.4814, KLD: 0.3599, DTW_Triplet: 0.0017)\n",
      "  Avg Val Loss:   0.8411 (Recon: 0.4625, KLD: 0.3786)\n",
      "Validation loss decreased (inf --> 0.8411). Saving model to data/autoencoder_models/best_vae_dtw_shape_BTCUSDT_ws20_ld5.pt\n",
      "  Epoch [2/20], Batch [1000/9497], AvgBatchLoss: 0.8989 (R: 0.4908, KLD: 0.4081, DTW_T: 0.0000 (64 trips))\n",
      "  Epoch [2/20], Batch [2000/9497], AvgBatchLoss: 0.6991 (R: 0.3458, KLD: 0.3534, DTW_T: 0.0000 (64 trips))\n",
      "  Epoch [2/20], Batch [3000/9497], AvgBatchLoss: 0.8039 (R: 0.4246, KLD: 0.3793, DTW_T: 0.0000 (64 trips))\n",
      "  Epoch [2/20], Batch [4000/9497], AvgBatchLoss: 0.7609 (R: 0.4580, KLD: 0.3028, DTW_T: 0.0007 (64 trips))\n",
      "  Epoch [2/20], Batch [5000/9497], AvgBatchLoss: 0.7852 (R: 0.4277, KLD: 0.3575, DTW_T: 0.0000 (64 trips))\n",
      "  Epoch [2/20], Batch [6000/9497], AvgBatchLoss: 0.6759 (R: 0.3728, KLD: 0.3031, DTW_T: 0.0000 (64 trips))\n",
      "  Epoch [2/20], Batch [7000/9497], AvgBatchLoss: 1.0025 (R: 0.6493, KLD: 0.3532, DTW_T: 0.0000 (64 trips))\n",
      "  Epoch [2/20], Batch [8000/9497], AvgBatchLoss: 0.6233 (R: 0.2885, KLD: 0.3348, DTW_T: 0.0000 (64 trips))\n",
      "  Epoch [2/20], Batch [9000/9497], AvgBatchLoss: 0.7850 (R: 0.4464, KLD: 0.3387, DTW_T: 0.0000 (64 trips))\n",
      "--- Epoch [2/20] SUMMARY ---\n",
      "  Avg Train Loss: 0.8342 (Recon: 0.4682, KLD: 0.3660, DTW_Triplet: 0.0002)\n",
      "  Avg Val Loss:   0.8326 (Recon: 0.4521, KLD: 0.3804)\n",
      "Validation loss decreased (0.8411 --> 0.8326). Saving model to data/autoencoder_models/best_vae_dtw_shape_BTCUSDT_ws20_ld5.pt\n",
      "  Epoch [3/20], Batch [1000/9497], AvgBatchLoss: 1.0310 (R: 0.6057, KLD: 0.4254, DTW_T: 0.0000 (64 trips))\n",
      "  Epoch [3/20], Batch [2000/9497], AvgBatchLoss: 0.9189 (R: 0.4999, KLD: 0.4190, DTW_T: 0.0000 (64 trips))\n",
      "  Epoch [3/20], Batch [3000/9497], AvgBatchLoss: 0.9384 (R: 0.6113, KLD: 0.3270, DTW_T: 0.0011 (64 trips))\n",
      "  Epoch [3/20], Batch [4000/9497], AvgBatchLoss: 0.9373 (R: 0.5032, KLD: 0.4341, DTW_T: 0.0000 (64 trips))\n",
      "  Epoch [3/20], Batch [5000/9497], AvgBatchLoss: 0.9484 (R: 0.5101, KLD: 0.4383, DTW_T: 0.0000 (64 trips))\n",
      "  Epoch [3/20], Batch [6000/9497], AvgBatchLoss: 0.8931 (R: 0.5143, KLD: 0.3789, DTW_T: 0.0000 (64 trips))\n",
      "  Epoch [3/20], Batch [7000/9497], AvgBatchLoss: 0.7028 (R: 0.3676, KLD: 0.3351, DTW_T: 0.0000 (64 trips))\n",
      "  Epoch [3/20], Batch [8000/9497], AvgBatchLoss: 0.7581 (R: 0.3552, KLD: 0.4029, DTW_T: 0.0000 (64 trips))\n",
      "  Epoch [3/20], Batch [9000/9497], AvgBatchLoss: 0.8529 (R: 0.5281, KLD: 0.3248, DTW_T: 0.0000 (64 trips))\n",
      "--- Epoch [3/20] SUMMARY ---\n",
      "  Avg Train Loss: 0.8359 (Recon: 0.4681, KLD: 0.3677, DTW_Triplet: 0.0002)\n",
      "  Avg Val Loss:   0.8349 (Recon: 0.4721, KLD: 0.3628)\n",
      "Validation loss did not improve for 1 epoch(s) from best: 0.8326\n",
      "  Epoch [4/20], Batch [1000/9497], AvgBatchLoss: 1.1066 (R: 0.6747, KLD: 0.4319, DTW_T: 0.0000 (64 trips))\n",
      "  Epoch [4/20], Batch [2000/9497], AvgBatchLoss: 0.7912 (R: 0.3731, KLD: 0.4181, DTW_T: 0.0000 (64 trips))\n",
      "  Epoch [4/20], Batch [3000/9497], AvgBatchLoss: 0.7525 (R: 0.3961, KLD: 0.3565, DTW_T: 0.0000 (64 trips))\n",
      "  Epoch [4/20], Batch [4000/9497], AvgBatchLoss: 0.6820 (R: 0.3546, KLD: 0.3269, DTW_T: 0.0047 (64 trips))\n",
      "  Epoch [4/20], Batch [5000/9497], AvgBatchLoss: 0.9193 (R: 0.5698, KLD: 0.3495, DTW_T: 0.0000 (64 trips))\n",
      "  Epoch [4/20], Batch [6000/9497], AvgBatchLoss: 0.8176 (R: 0.4409, KLD: 0.3767, DTW_T: 0.0000 (64 trips))\n",
      "  Epoch [4/20], Batch [7000/9497], AvgBatchLoss: 0.9309 (R: 0.5499, KLD: 0.3810, DTW_T: 0.0000 (64 trips))\n",
      "  Epoch [4/20], Batch [8000/9497], AvgBatchLoss: 0.7353 (R: 0.3659, KLD: 0.3694, DTW_T: 0.0000 (64 trips))\n",
      "  Epoch [4/20], Batch [9000/9497], AvgBatchLoss: 0.8087 (R: 0.4341, KLD: 0.3746, DTW_T: 0.0000 (64 trips))\n",
      "--- Epoch [4/20] SUMMARY ---\n",
      "  Avg Train Loss: 0.8350 (Recon: 0.4677, KLD: 0.3673, DTW_Triplet: 0.0002)\n",
      "  Avg Val Loss:   0.8376 (Recon: 0.4791, KLD: 0.3585)\n",
      "Validation loss did not improve for 2 epoch(s) from best: 0.8326\n",
      "  Epoch [5/20], Batch [1000/9497], AvgBatchLoss: 1.0452 (R: 0.7005, KLD: 0.3447, DTW_T: 0.0000 (64 trips))\n",
      "  Epoch [5/20], Batch [2000/9497], AvgBatchLoss: 0.6857 (R: 0.2909, KLD: 0.3948, DTW_T: 0.0000 (64 trips))\n",
      "  Epoch [5/20], Batch [3000/9497], AvgBatchLoss: 0.8211 (R: 0.4376, KLD: 0.3836, DTW_T: 0.0000 (64 trips))\n",
      "  Epoch [5/20], Batch [4000/9497], AvgBatchLoss: 0.8792 (R: 0.5376, KLD: 0.3416, DTW_T: 0.0000 (64 trips))\n",
      "  Epoch [5/20], Batch [5000/9497], AvgBatchLoss: 1.0725 (R: 0.6502, KLD: 0.4223, DTW_T: 0.0000 (64 trips))\n",
      "  Epoch [5/20], Batch [6000/9497], AvgBatchLoss: 0.8205 (R: 0.4784, KLD: 0.3421, DTW_T: 0.0000 (64 trips))\n",
      "  Epoch [5/20], Batch [7000/9497], AvgBatchLoss: 0.7897 (R: 0.4571, KLD: 0.3323, DTW_T: 0.0035 (64 trips))\n",
      "  Epoch [5/20], Batch [8000/9497], AvgBatchLoss: 1.0207 (R: 0.6375, KLD: 0.3833, DTW_T: 0.0000 (64 trips))\n",
      "  Epoch [5/20], Batch [9000/9497], AvgBatchLoss: 0.8080 (R: 0.4366, KLD: 0.3714, DTW_T: 0.0000 (64 trips))\n",
      "--- Epoch [5/20] SUMMARY ---\n",
      "  Avg Train Loss: 0.8345 (Recon: 0.4670, KLD: 0.3674, DTW_Triplet: 0.0002)\n",
      "  Avg Val Loss:   0.8308 (Recon: 0.4613, KLD: 0.3695)\n",
      "Validation loss decreased (0.8326 --> 0.8308). Saving model to data/autoencoder_models/best_vae_dtw_shape_BTCUSDT_ws20_ld5.pt\n",
      "  Epoch [6/20], Batch [1000/9497], AvgBatchLoss: 0.7703 (R: 0.3854, KLD: 0.3849, DTW_T: 0.0003 (64 trips))\n",
      "  Epoch [6/20], Batch [2000/9497], AvgBatchLoss: 0.6962 (R: 0.3260, KLD: 0.3702, DTW_T: 0.0000 (64 trips))\n",
      "  Epoch [6/20], Batch [3000/9497], AvgBatchLoss: 0.8466 (R: 0.5022, KLD: 0.3444, DTW_T: 0.0000 (64 trips))\n",
      "  Epoch [6/20], Batch [4000/9497], AvgBatchLoss: 0.9006 (R: 0.5279, KLD: 0.3727, DTW_T: 0.0000 (64 trips))\n",
      "  Epoch [6/20], Batch [5000/9497], AvgBatchLoss: 0.6512 (R: 0.3154, KLD: 0.3358, DTW_T: 0.0000 (64 trips))\n",
      "  Epoch [6/20], Batch [6000/9497], AvgBatchLoss: 0.7999 (R: 0.4505, KLD: 0.3493, DTW_T: 0.0011 (64 trips))\n",
      "  Epoch [6/20], Batch [7000/9497], AvgBatchLoss: 0.8635 (R: 0.4765, KLD: 0.3869, DTW_T: 0.0000 (64 trips))\n",
      "  Epoch [6/20], Batch [8000/9497], AvgBatchLoss: 0.7553 (R: 0.4245, KLD: 0.3308, DTW_T: 0.0000 (64 trips))\n",
      "  Epoch [6/20], Batch [9000/9497], AvgBatchLoss: 0.9378 (R: 0.5355, KLD: 0.4023, DTW_T: 0.0000 (64 trips))\n",
      "--- Epoch [6/20] SUMMARY ---\n",
      "  Avg Train Loss: 0.8328 (Recon: 0.4657, KLD: 0.3671, DTW_Triplet: 0.0002)\n",
      "  Avg Val Loss:   0.8384 (Recon: 0.4677, KLD: 0.3707)\n",
      "Validation loss did not improve for 1 epoch(s) from best: 0.8308\n",
      "  Epoch [7/20], Batch [1000/9497], AvgBatchLoss: 0.7967 (R: 0.4056, KLD: 0.3911, DTW_T: 0.0000 (64 trips))\n",
      "  Epoch [7/20], Batch [2000/9497], AvgBatchLoss: 0.7422 (R: 0.3792, KLD: 0.3630, DTW_T: 0.0000 (64 trips))\n",
      "  Epoch [7/20], Batch [3000/9497], AvgBatchLoss: 0.7043 (R: 0.3381, KLD: 0.3661, DTW_T: 0.0000 (64 trips))\n",
      "  Epoch [7/20], Batch [4000/9497], AvgBatchLoss: 0.7035 (R: 0.3606, KLD: 0.3429, DTW_T: 0.0000 (64 trips))\n",
      "  Epoch [7/20], Batch [5000/9497], AvgBatchLoss: 0.7478 (R: 0.3672, KLD: 0.3805, DTW_T: 0.0000 (64 trips))\n",
      "  Epoch [7/20], Batch [6000/9497], AvgBatchLoss: 0.6290 (R: 0.3165, KLD: 0.3125, DTW_T: 0.0000 (64 trips))\n",
      "  Epoch [7/20], Batch [7000/9497], AvgBatchLoss: 0.9813 (R: 0.5863, KLD: 0.3950, DTW_T: 0.0000 (64 trips))\n",
      "  Epoch [7/20], Batch [8000/9497], AvgBatchLoss: 0.8635 (R: 0.4793, KLD: 0.3843, DTW_T: 0.0000 (64 trips))\n",
      "  Epoch [7/20], Batch [9000/9497], AvgBatchLoss: 0.9348 (R: 0.5762, KLD: 0.3586, DTW_T: 0.0000 (64 trips))\n",
      "--- Epoch [7/20] SUMMARY ---\n",
      "  Avg Train Loss: 0.8323 (Recon: 0.4665, KLD: 0.3658, DTW_Triplet: 0.0002)\n",
      "  Avg Val Loss:   0.8319 (Recon: 0.4771, KLD: 0.3548)\n",
      "Validation loss did not improve for 2 epoch(s) from best: 0.8308\n",
      "  Epoch [8/20], Batch [1000/9497], AvgBatchLoss: 0.9249 (R: 0.5376, KLD: 0.3873, DTW_T: 0.0000 (64 trips))\n",
      "  Epoch [8/20], Batch [2000/9497], AvgBatchLoss: 0.8546 (R: 0.4631, KLD: 0.3914, DTW_T: 0.0000 (64 trips))\n",
      "  Epoch [8/20], Batch [3000/9497], AvgBatchLoss: 0.7768 (R: 0.4360, KLD: 0.3408, DTW_T: 0.0000 (64 trips))\n",
      "  Epoch [8/20], Batch [4000/9497], AvgBatchLoss: 0.8377 (R: 0.5073, KLD: 0.3304, DTW_T: 0.0000 (64 trips))\n",
      "  Epoch [8/20], Batch [5000/9497], AvgBatchLoss: 0.7103 (R: 0.4078, KLD: 0.3025, DTW_T: 0.0002 (64 trips))\n",
      "  Epoch [8/20], Batch [6000/9497], AvgBatchLoss: 0.6611 (R: 0.2902, KLD: 0.3705, DTW_T: 0.0036 (64 trips))\n",
      "  Epoch [8/20], Batch [7000/9497], AvgBatchLoss: 0.7435 (R: 0.3355, KLD: 0.4080, DTW_T: 0.0000 (64 trips))\n",
      "  Epoch [8/20], Batch [8000/9497], AvgBatchLoss: 0.8757 (R: 0.5110, KLD: 0.3647, DTW_T: 0.0000 (64 trips))\n",
      "  Epoch [8/20], Batch [9000/9497], AvgBatchLoss: 0.9105 (R: 0.4948, KLD: 0.4157, DTW_T: 0.0000 (64 trips))\n",
      "--- Epoch [8/20] SUMMARY ---\n",
      "  Avg Train Loss: 0.8340 (Recon: 0.4660, KLD: 0.3680, DTW_Triplet: 0.0002)\n",
      "  Avg Val Loss:   0.8374 (Recon: 0.4364, KLD: 0.4010)\n",
      "Validation loss did not improve for 3 epoch(s) from best: 0.8308\n",
      "  Epoch [9/20], Batch [1000/9497], AvgBatchLoss: 0.7973 (R: 0.4509, KLD: 0.3464, DTW_T: 0.0000 (64 trips))\n",
      "  Epoch [9/20], Batch [2000/9497], AvgBatchLoss: 0.8314 (R: 0.4948, KLD: 0.3366, DTW_T: 0.0000 (64 trips))\n",
      "  Epoch [9/20], Batch [3000/9497], AvgBatchLoss: 0.6867 (R: 0.2870, KLD: 0.3997, DTW_T: 0.0000 (64 trips))\n",
      "  Epoch [9/20], Batch [4000/9497], AvgBatchLoss: 0.7566 (R: 0.4283, KLD: 0.3275, DTW_T: 0.0084 (64 trips))\n",
      "  Epoch [9/20], Batch [5000/9497], AvgBatchLoss: 0.7671 (R: 0.4224, KLD: 0.3447, DTW_T: 0.0000 (64 trips))\n",
      "  Epoch [9/20], Batch [6000/9497], AvgBatchLoss: 0.7321 (R: 0.3170, KLD: 0.4152, DTW_T: 0.0000 (64 trips))\n",
      "  Epoch [9/20], Batch [7000/9497], AvgBatchLoss: 0.8573 (R: 0.4874, KLD: 0.3699, DTW_T: 0.0000 (64 trips))\n",
      "  Epoch [9/20], Batch [8000/9497], AvgBatchLoss: 0.9038 (R: 0.5436, KLD: 0.3602, DTW_T: 0.0000 (64 trips))\n",
      "  Epoch [9/20], Batch [9000/9497], AvgBatchLoss: 0.7662 (R: 0.3643, KLD: 0.4019, DTW_T: 0.0000 (64 trips))\n",
      "--- Epoch [9/20] SUMMARY ---\n",
      "  Avg Train Loss: 0.8345 (Recon: 0.4654, KLD: 0.3691, DTW_Triplet: 0.0002)\n",
      "  Avg Val Loss:   0.8333 (Recon: 0.4572, KLD: 0.3761)\n",
      "Validation loss did not improve for 4 epoch(s) from best: 0.8308\n",
      "  Epoch [10/20], Batch [1000/9497], AvgBatchLoss: 0.8278 (R: 0.4386, KLD: 0.3893, DTW_T: 0.0000 (64 trips))\n",
      "  Epoch [10/20], Batch [2000/9497], AvgBatchLoss: 0.8357 (R: 0.4396, KLD: 0.3961, DTW_T: 0.0000 (64 trips))\n",
      "  Epoch [10/20], Batch [3000/9497], AvgBatchLoss: 0.8727 (R: 0.5324, KLD: 0.3404, DTW_T: 0.0000 (64 trips))\n",
      "  Epoch [10/20], Batch [4000/9497], AvgBatchLoss: 0.8094 (R: 0.4556, KLD: 0.3538, DTW_T: 0.0000 (64 trips))\n",
      "  Epoch [10/20], Batch [5000/9497], AvgBatchLoss: 0.7387 (R: 0.3711, KLD: 0.3676, DTW_T: 0.0000 (64 trips))\n",
      "  Epoch [10/20], Batch [6000/9497], AvgBatchLoss: 0.7276 (R: 0.3844, KLD: 0.3432, DTW_T: 0.0000 (64 trips))\n",
      "  Epoch [10/20], Batch [7000/9497], AvgBatchLoss: 0.7636 (R: 0.4065, KLD: 0.3570, DTW_T: 0.0000 (64 trips))\n",
      "  Epoch [10/20], Batch [8000/9497], AvgBatchLoss: 0.6644 (R: 0.3223, KLD: 0.3420, DTW_T: 0.0010 (64 trips))\n",
      "  Epoch [10/20], Batch [9000/9497], AvgBatchLoss: 0.8575 (R: 0.5088, KLD: 0.3487, DTW_T: 0.0000 (64 trips))\n",
      "--- Epoch [10/20] SUMMARY ---\n",
      "  Avg Train Loss: 0.8351 (Recon: 0.4661, KLD: 0.3689, DTW_Triplet: 0.0002)\n",
      "  Avg Val Loss:   0.8314 (Recon: 0.4397, KLD: 0.3917)\n",
      "Validation loss did not improve for 5 epoch(s) from best: 0.8308\n",
      "Early stopping triggered after 10 epochs.\n",
      "\n",
      "Training finished.\n",
      "Loading best model from: data/autoencoder_models/best_vae_dtw_shape_BTCUSDT_ws20_ld5.pt with val_loss: 0.8308\n"
     ]
    }
   ],
   "source": [
    "print(f\"Starting training for {EPOCHS} epochs...\")\n",
    "print(f\"Device: {device}\")\n",
    "print(f\"Batch Size: {BATCH_SIZE}\")\n",
    "print(f\"Learning Rate: {LEARNING_RATE}\")\n",
    "print(f\"KLD Beta: {BETA_KLD}\")\n",
    "print(f\"DTW Triplet Gamma: {GAMMA_DTW_TRIPLET}\")\n",
    "\n",
    "# For plotting losses later, if needed\n",
    "history = {\n",
    "    'train_loss': [], 'val_loss': [],\n",
    "    'train_recon_loss': [], 'val_recon_loss': [],\n",
    "    'train_kld_loss': [], 'val_kld_loss': [],\n",
    "    'train_dtw_triplet_loss': []\n",
    "}\n",
    "\n",
    "for epoch in range(1, EPOCHS + 1):\n",
    "    model.train()\n",
    "    epoch_train_loss = 0.0\n",
    "    epoch_recon_loss = 0.0\n",
    "    epoch_kld_loss = 0.0\n",
    "    epoch_dtw_triplet_loss_sum_of_means = 0.0 # Sum of mean triplet losses from batches with triplets\n",
    "    num_batches_with_triplets_in_epoch = 0\n",
    "\n",
    "    for batch_idx, (original_input_sequences, batch_global_indices) in enumerate(train_loader):\n",
    "        original_input_sequences = original_input_sequences.to(device)\n",
    "        batch_global_indices_np = batch_global_indices.numpy()\n",
    "\n",
    "        optimizer.zero_grad()\n",
    "        \n",
    "        recon_batch, mu, log_var, latent_mu_for_triplet = model(original_input_sequences)\n",
    "\n",
    "        combined_loss, recon_loss, kld_loss, dtw_triplet_loss, num_valid_trips = calculate_combined_loss(\n",
    "            original_input_sequences,\n",
    "            batch_global_indices_np,\n",
    "            recon_batch,\n",
    "            mu,\n",
    "            log_var,\n",
    "            latent_mu_for_triplet, # mu vectors\n",
    "            epoch,\n",
    "            dtw_triplet_k_positive=1,\n",
    "            dtw_triplet_k_negative=1\n",
    "        )\n",
    "        \n",
    "        if torch.isnan(combined_loss):\n",
    "            print(f\"NaN loss detected at epoch {epoch}, batch {batch_idx}. Stopping.\")\n",
    "            break\n",
    "            \n",
    "        combined_loss.backward()\n",
    "        # torch.nn.utils.clip_grad_norm_(model.parameters(), max_norm=1.0)\n",
    "        optimizer.step()\n",
    "\n",
    "        # Aggregate per-sample averaged losses\n",
    "        epoch_train_loss += combined_loss.item() * original_input_sequences.size(0) \n",
    "        epoch_recon_loss += recon_loss.item() * original_input_sequences.size(0)\n",
    "        epoch_kld_loss += kld_loss.item() * original_input_sequences.size(0)\n",
    "        \n",
    "        if num_valid_trips > 0:\n",
    "            epoch_dtw_triplet_loss_sum_of_means += dtw_triplet_loss.item()\n",
    "            num_batches_with_triplets_in_epoch += 1\n",
    "        \n",
    "        if (batch_idx + 1) % PRINT_EVERY == 0: \n",
    "            current_avg_batch_loss = combined_loss.item()\n",
    "            current_avg_recon_loss = recon_loss.item()\n",
    "            current_avg_kld_loss = kld_loss.item()\n",
    "            current_avg_dtw_triplet_loss = dtw_triplet_loss.item() if num_valid_trips > 0 else 0.0\n",
    "            print(f\"  Epoch [{epoch}/{EPOCHS}], Batch [{batch_idx+1}/{len(train_loader)}], \"\n",
    "                  f\"AvgBatchLoss: {current_avg_batch_loss:.4f} \"\n",
    "                  f\"(R: {current_avg_recon_loss:.4f}, \"\n",
    "                  f\"KLD: {current_avg_kld_loss:.4f}, \"\n",
    "                  f\"DTW_T: {current_avg_dtw_triplet_loss:.4f} ({num_valid_trips} trips))\")\n",
    "\n",
    "    if torch.isnan(combined_loss):\n",
    "        break\n",
    "\n",
    "\n",
    "    # Average losses for the epoch (over all samples)\n",
    "    avg_epoch_train_loss = epoch_train_loss / len(train_loader.dataset)\n",
    "    avg_epoch_recon_loss = epoch_recon_loss / len(train_loader.dataset)\n",
    "    avg_epoch_kld_loss = epoch_kld_loss / len(train_loader.dataset)\n",
    "    avg_epoch_dtw_triplet_loss = (epoch_dtw_triplet_loss_sum_of_means / num_batches_with_triplets_in_epoch) \\\n",
    "                                 if num_batches_with_triplets_in_epoch > 0 else 0.0\n",
    "    \n",
    "    history['train_loss'].append(avg_epoch_train_loss)\n",
    "    history['train_recon_loss'].append(avg_epoch_recon_loss)\n",
    "    history['train_kld_loss'].append(avg_epoch_kld_loss)\n",
    "    history['train_dtw_triplet_loss'].append(avg_epoch_dtw_triplet_loss)\n",
    "\n",
    "\n",
    "    # Validation\n",
    "    model.eval()\n",
    "    epoch_val_loss = 0.0\n",
    "    epoch_val_recon_loss = 0.0\n",
    "    epoch_val_kld_loss = 0.0\n",
    "    \n",
    "    with torch.no_grad():\n",
    "        for original_input_sequences_val, batch_global_indices_val in val_loader:\n",
    "            original_input_sequences_val = original_input_sequences_val.to(device)\n",
    "            batch_global_indices_val_np = batch_global_indices_val.numpy()\n",
    "            \n",
    "            recon_batch_val, mu_val, log_var_val, latent_mu_val = model(original_input_sequences_val)\n",
    "            \n",
    "            # For validation, I calculate VAE loss components.\n",
    "            # Set k_positive and k_negative to 0 to skip DTW triplet calculation for speed.\n",
    "            val_loss_batch, val_recon_l, val_kld_l, _, _ = calculate_combined_loss(\n",
    "                original_input_sequences_val,\n",
    "                batch_global_indices_val_np,\n",
    "                recon_batch_val,\n",
    "                mu_val,\n",
    "                log_var_val,\n",
    "                latent_mu_val,\n",
    "                epoch,\n",
    "                dtw_triplet_k_positive=0,\n",
    "                dtw_triplet_k_negative=0\n",
    "            )\n",
    "            \n",
    "            epoch_val_loss += val_loss_batch.item() * original_input_sequences_val.size(0)\n",
    "            epoch_val_recon_loss += val_recon_l.item() * original_input_sequences_val.size(0)\n",
    "            epoch_val_kld_loss += val_kld_l.item() * original_input_sequences_val.size(0)\n",
    "\n",
    "    avg_epoch_val_loss = epoch_val_loss / len(val_loader.dataset)\n",
    "    avg_epoch_val_recon_loss = epoch_val_recon_loss / len(val_loader.dataset)\n",
    "    avg_epoch_val_kld_loss = epoch_val_kld_loss / len(val_loader.dataset)\n",
    "    history['val_loss'].append(avg_epoch_val_loss)\n",
    "    history['val_recon_loss'].append(avg_epoch_val_recon_loss)\n",
    "    history['val_kld_loss'].append(avg_epoch_val_kld_loss)\n",
    "\n",
    "    print(f\"--- Epoch [{epoch}/{EPOCHS}] SUMMARY ---\")\n",
    "    print(f\"  Avg Train Loss: {avg_epoch_train_loss:.4f} (Recon: {avg_epoch_recon_loss:.4f}, KLD: {avg_epoch_kld_loss:.4f}, DTW_Triplet: {avg_epoch_dtw_triplet_loss:.4f})\")\n",
    "    print(f\"  Avg Val Loss:   {avg_epoch_val_loss:.4f} (Recon: {avg_epoch_val_recon_loss:.4f}, KLD: {avg_epoch_val_kld_loss:.4f})\")\n",
    "\n",
    "    # Early Stopping & Model Checkpointing\n",
    "    if avg_epoch_val_loss < best_val_loss - MIN_DELTA:\n",
    "        print(f\"Validation loss decreased ({best_val_loss:.4f} --> {avg_epoch_val_loss:.4f}). Saving model to {best_model_path}\")\n",
    "        best_val_loss = avg_epoch_val_loss\n",
    "        torch.save(model.state_dict(), best_model_path)\n",
    "        epochs_no_improve = 0\n",
    "    else:\n",
    "        epochs_no_improve += 1\n",
    "        print(f\"Validation loss did not improve for {epochs_no_improve} epoch(s) from best: {best_val_loss:.4f}\")\n",
    "        if epochs_no_improve >= PATIENCE:\n",
    "            print(f\"Early stopping triggered after {epoch} epochs.\")\n",
    "            break\n",
    "            \n",
    "print(\"\\nTraining finished.\")\n",
    "# Load the best model weights\n",
    "if os.path.exists(best_model_path) and best_val_loss != float('inf'):\n",
    "    print(f\"Loading best model from: {best_model_path} with val_loss: {best_val_loss:.4f}\")\n",
    "    model.load_state_dict(torch.load(best_model_path, map_location=device))\n",
    "else:\n",
    "    print(\"Warning: Best model checkpoint not found or not saved. Using the last state of the model.\")"
   ]
  },
  {
   "cell_type": "markdown",
   "metadata": {},
   "source": [
    "- reduce the MARGIN for better DTW_T"
   ]
  },
  {
   "cell_type": "markdown",
   "metadata": {},
   "source": [
    "# Diagnostic Step - Inspecting Latent Distances and Triplet Components\n"
   ]
  },
  {
   "cell_type": "code",
   "execution_count": null,
   "metadata": {
    "ExecuteTime": {
     "end_time": "2025-05-14T06:19:59.003940Z",
     "start_time": "2025-05-14T06:19:58.985760Z"
    }
   },
   "outputs": [
    {
     "name": "stdout",
     "output_type": "stream",
     "text": [
      "Diagnostic combined loss function defined.\n"
     ]
    }
   ],
   "source": [
    "# Store a few original subsequences for DTW comparison if needed outside the loop\n",
    "\n",
    "def calculate_combined_loss_DIAGNOSTIC(original_sequences,\n",
    "                                       batch_global_indices_np,\n",
    "                                       reconstructed_sequences,\n",
    "                                       mu,\n",
    "                                       log_var,\n",
    "                                       latent_embeddings, # mu vectors\n",
    "                                       epoch,\n",
    "                                       dtw_triplet_k_positive=1,\n",
    "                                       dtw_triplet_k_negative=1,\n",
    "                                       print_diagnostics=False,\n",
    "                                       max_triplets_to_print=3):\n",
    "    \"\"\"\n",
    "    Calculates combined VAE loss and DTW-based triplet loss, WITH DIAGNOSTIC PRINTING.\n",
    "    \"\"\"\n",
    "    recon_loss = F.mse_loss(reconstructed_sequences, original_sequences, reduction='mean')\n",
    "    kld_loss = -0.5 * torch.sum(1 + log_var - mu.pow(2) - log_var.exp(), dim=1).mean()\n",
    "\n",
    "    dtw_triplet_loss_value = torch.tensor(0.0).to(device)\n",
    "    num_valid_triplets = 0\n",
    "    # triplets_printed_count = 0\n",
    "\n",
    "    if GAMMA_DTW_TRIPLET > 0:\n",
    "        anchors_latent, positives_latent, negatives_latent = mine_dtw_triplets_from_batch_indices(\n",
    "            batch_global_indices_np,\n",
    "            latent_embeddings,\n",
    "            k_positive=dtw_triplet_k_positive,\n",
    "            k_negative=dtw_triplet_k_negative\n",
    "        )\n",
    "\n",
    "        if anchors_latent is not None and positives_latent is not None and negatives_latent is not None:\n",
    "            if anchors_latent.shape[0] > 0:\n",
    "                num_valid_triplets = anchors_latent.shape[0]\n",
    "                \n",
    "                # Calculate individual squared Euclidean distances for diagnostics\n",
    "                ap_dist_sq = torch.sum((anchors_latent - positives_latent).pow(2), dim=1)\n",
    "                an_dist_sq = torch.sum((anchors_latent - negatives_latent).pow(2), dim=1)\n",
    "                \n",
    "                triplet_losses_indiv = F.relu(ap_dist_sq - an_dist_sq + MARGIN)\n",
    "                dtw_triplet_loss_value = triplet_losses_indiv.mean()\n",
    "\n",
    "                if print_diagnostics and epoch % 1 == 0: \n",
    "                    print(f\"\\n--- Triplet Loss Diagnostics (Batch) ---\")\n",
    "                    print(f\"Found {num_valid_triplets} triplets.\")\n",
    "                    for i in range(min(num_valid_triplets, max_triplets_to_print)):\n",
    "                        print(f\"  Triplet {i+1}:\")\n",
    "                        print(f\"    Anchor Latent (first 2 dims): {anchors_latent[i, :2].cpu().detach().numpy()}\")\n",
    "                        print(f\"    Positive Latent (first 2 dims): {positives_latent[i, :2].cpu().detach().numpy()}\")\n",
    "                        print(f\"    Negative Latent (first 2 dims): {negatives_latent[i, :2].cpu().detach().numpy()}\")\n",
    "                        print(f\"    D_E(anchor, positive)^2: {ap_dist_sq[i].item():.4f}\")\n",
    "                        print(f\"    D_E(anchor, negative)^2: {an_dist_sq[i].item():.4f}\")\n",
    "                        print(f\"    Margin: {MARGIN}\")\n",
    "                        print(f\"    Loss Term (ap_sq - an_sq + margin): {(ap_dist_sq[i] - an_dist_sq[i] + MARGIN).item():.4f}\")\n",
    "                        print(f\"    Individual Triplet Loss (after ReLU): {triplet_losses_indiv[i].item():.4f}\")\n",
    "                    if num_valid_triplets > 0:\n",
    "                        print(f\"  Avg DTW Triplet Loss for this batch: {dtw_triplet_loss_value.item():.4f}\")\n",
    "            else:\n",
    "                dtw_triplet_loss_value = torch.tensor(0.0).to(device)\n",
    "        else:\n",
    "            dtw_triplet_loss_value = torch.tensor(0.0).to(device)\n",
    "\n",
    "    total_loss = recon_loss + BETA_KLD * kld_loss + \\\n",
    "                 GAMMA_DTW_TRIPLET * dtw_triplet_loss_value # + \\\n",
    "                 # GAMMA_EUCLIDEAN_TRIPLET * euclidean_triplet_loss_value\n",
    "\n",
    "    return total_loss, recon_loss, kld_loss, dtw_triplet_loss_value, num_valid_triplets\n",
    "\n",
    "print(\"Diagnostic combined loss function defined.\")"
   ]
  },
  {
   "cell_type": "code",
   "execution_count": null,
   "metadata": {
    "ExecuteTime": {
     "end_time": "2025-05-14T06:19:59.050463Z",
     "start_time": "2025-05-14T06:19:59.004493Z"
    }
   },
   "outputs": [
    {
     "name": "stdout",
     "output_type": "stream",
     "text": [
      "\n",
      "Running a single batch with diagnostics enabled...\n",
      "\n",
      "--- Triplet Loss Diagnostics (Batch) ---\n",
      "Found 64 triplets.\n",
      "  Triplet 1:\n",
      "    Anchor Latent (first 2 dims): [ 0.00915882 -0.51326954]\n",
      "    Positive Latent (first 2 dims): [ 0.01001474 -0.5536563 ]\n",
      "    Negative Latent (first 2 dims): [-0.01807123  1.2489872 ]\n",
      "    D_E(anchor, positive)^2: 0.0016\n",
      "    D_E(anchor, negative)^2: 3.1134\n",
      "    Margin: 1.0\n",
      "    Loss Term (ap_sq - an_sq + margin): -2.1118\n",
      "    Individual Triplet Loss (after ReLU): 0.0000\n",
      "  Triplet 2:\n",
      "    Anchor Latent (first 2 dims): [ 0.00358928 -0.24954256]\n",
      "    Positive Latent (first 2 dims): [ 0.00351309 -0.24578299]\n",
      "    Negative Latent (first 2 dims): [-0.01807123  1.2489872 ]\n",
      "    D_E(anchor, positive)^2: 0.0000\n",
      "    D_E(anchor, negative)^2: 2.2525\n",
      "    Margin: 1.0\n",
      "    Loss Term (ap_sq - an_sq + margin): -1.2525\n",
      "    Individual Triplet Loss (after ReLU): 0.0000\n",
      "  Triplet 3:\n",
      "    Anchor Latent (first 2 dims): [ 0.00138652 -0.03282603]\n",
      "    Positive Latent (first 2 dims): [ 0.00126729 -0.02684502]\n",
      "    Negative Latent (first 2 dims): [-0.01807123  1.2489872 ]\n",
      "    D_E(anchor, positive)^2: 0.0000\n",
      "    D_E(anchor, negative)^2: 1.6489\n",
      "    Margin: 1.0\n",
      "    Loss Term (ap_sq - an_sq + margin): -0.6488\n",
      "    Individual Triplet Loss (after ReLU): 0.0000\n",
      "  Triplet 4:\n",
      "    Anchor Latent (first 2 dims): [-0.00015665  0.04203841]\n",
      "    Positive Latent (first 2 dims): [0.00053537 0.01506262]\n",
      "    Negative Latent (first 2 dims): [-0.01807123  1.2489872 ]\n",
      "    D_E(anchor, positive)^2: 0.0007\n",
      "    D_E(anchor, negative)^2: 1.4623\n",
      "    Margin: 1.0\n",
      "    Loss Term (ap_sq - an_sq + margin): -0.4616\n",
      "    Individual Triplet Loss (after ReLU): 0.0000\n",
      "  Triplet 5:\n",
      "    Anchor Latent (first 2 dims): [-0.00229499  0.09352444]\n",
      "    Positive Latent (first 2 dims): [-0.00015665  0.04203841]\n",
      "    Negative Latent (first 2 dims): [ 0.02086457 -1.1480318 ]\n",
      "    D_E(anchor, positive)^2: 0.0027\n",
      "    D_E(anchor, negative)^2: 1.5427\n",
      "    Margin: 1.0\n",
      "    Loss Term (ap_sq - an_sq + margin): -0.5401\n",
      "    Individual Triplet Loss (after ReLU): 0.0000\n",
      "  Avg DTW Triplet Loss for this batch: 0.0000\n",
      "\n",
      "--- Single Batch Diagnostic Summary ---\n",
      "Combined Loss:                      0.7652\n",
      "  `Reconstruction Loss:              0.4492\n",
      "  `KLD Loss:                         0.3160\n",
      "  `DTW Triplet Loss (avg for batch): 0.0000 (from 64 triplets)\n"
     ]
    }
   ],
   "source": [
    "model.train()\n",
    "print(\"\\nRunning a single batch with diagnostics enabled...\")\n",
    "\n",
    "try:\n",
    "    original_input_sequences_diag, batch_global_indices_diag = next(iter(train_loader))\n",
    "    original_input_sequences_diag = original_input_sequences_diag.to(device)\n",
    "    batch_global_indices_diag_np = batch_global_indices_diag.numpy()\n",
    "\n",
    "    optimizer.zero_grad()\n",
    "    recon_batch_diag, mu_diag, log_var_diag, latent_mu_diag = model(original_input_sequences_diag)\n",
    "\n",
    "    combined_loss_diag, recon_l_d, kld_l_d, dtw_t_l_d, num_trips_d = calculate_combined_loss_DIAGNOSTIC(\n",
    "        original_input_sequences_diag,\n",
    "        batch_global_indices_diag_np,\n",
    "        recon_batch_diag,\n",
    "        mu_diag,\n",
    "        log_var_diag,\n",
    "        latent_mu_diag, # mu vectors\n",
    "        epoch=1, \n",
    "        print_diagnostics=True,\n",
    "        max_triplets_to_print=5 \n",
    "    )\n",
    "    \n",
    "    print(f\"\\n--- Single Batch Diagnostic Summary ---\")\n",
    "    print(f\"Combined Loss:                      {combined_loss_diag.item():.4f}\")\n",
    "    print(f\"  `Reconstruction Loss:              {recon_l_d.item():.4f}\")\n",
    "    print(f\"  `KLD Loss:                         {kld_l_d.item():.4f}\")\n",
    "    print(f\"  `DTW Triplet Loss (avg for batch): {dtw_t_l_d.item():.4f} (from {num_trips_d} triplets)\")\n",
    "\n",
    "    # No backward() or step() here, just inspecting losses\n",
    "    \n",
    "except StopIteration:\n",
    "    print(\"ERROR: Train DataLoader is empty. Cannot run diagnostic batch.\")\n",
    "except Exception as e:\n",
    "    print(f\"An error occurred during the diagnostic batch run: {e}\")\n",
    "    import traceback\n",
    "    traceback.print_exc()"
   ]
  },
  {
   "cell_type": "markdown",
   "metadata": {},
   "source": [
    "# Extract Embeddings (Mu vectors), Save, and Basic Evaluation "
   ]
  },
  {
   "cell_type": "code",
   "execution_count": null,
   "metadata": {
    "ExecuteTime": {
     "end_time": "2025-05-14T06:20:04.548264Z",
     "start_time": "2025-05-14T06:19:59.050917Z"
    }
   },
   "outputs": [
    {
     "name": "stdout",
     "output_type": "stream",
     "text": [
      "\n",
      "Extracting embeddings using the best model loaded from: data/autoencoder_models/best_vae_dtw_shape_BTCUSDT_ws20_ld5.pt\n",
      "Processing 759789 subsequences in 11872 batches for embedding extraction...\n",
      "Shape of final extracted embeddings (mu vectors): (759789, 5)\n",
      "Saving final embeddings to: data/embeddings/embed_vae_dtw_shape_BTCUSDT_ws20_ld5.csv\n",
      "Embeddings saved.\n"
     ]
    }
   ],
   "source": [
    "print(f\"\\nExtracting embeddings using the best model loaded from: {best_model_path}\")\n",
    "model.eval() \n",
    "\n",
    "all_mu_embeddings_list = []\n",
    "\n",
    "# Create a DataLoader for the full dataset \n",
    "full_dataset_loader = DataLoader(dataset, batch_size=BATCH_SIZE, shuffle=False, drop_last=False)\n",
    "print(f\"Processing {len(dataset)} subsequences in {len(full_dataset_loader)} batches for embedding extraction...\")\n",
    "\n",
    "with torch.no_grad():\n",
    "    for batch_data, _ in full_dataset_loader:\n",
    "        batch_data = batch_data.to(device)\n",
    "        mu, _ = model.encode(batch_data) # Get mu from the encoder\n",
    "        all_mu_embeddings_list.append(mu.cpu().numpy())\n",
    "\n",
    "final_embeddings_np = np.vstack(all_mu_embeddings_list)\n",
    "print(f\"Shape of final extracted embeddings (mu vectors): {final_embeddings_np.shape}\")\n",
    "\n",
    "embeddings_df = pd.DataFrame(\n",
    "    final_embeddings_np,\n",
    "    columns=[f'embedding_{i+1}' for i in range(final_embeddings_np.shape[1])]\n",
    ")\n",
    "\n",
    "print(f\"Saving final embeddings to: {final_embeddings_path}\")\n",
    "embeddings_df.to_csv(final_embeddings_path, index=False)\n",
    "print(\"Embeddings saved.\")"
   ]
  },
  {
   "cell_type": "code",
   "execution_count": 22,
   "metadata": {
    "ExecuteTime": {
     "end_time": "2025-05-14T06:20:04.554105Z",
     "start_time": "2025-05-14T06:20:04.548856Z"
    }
   },
   "outputs": [
    {
     "data": {
      "text/html": [
       "<div>\n",
       "<style scoped>\n",
       "    .dataframe tbody tr th:only-of-type {\n",
       "        vertical-align: middle;\n",
       "    }\n",
       "\n",
       "    .dataframe tbody tr th {\n",
       "        vertical-align: top;\n",
       "    }\n",
       "\n",
       "    .dataframe thead th {\n",
       "        text-align: right;\n",
       "    }\n",
       "</style>\n",
       "<table border=\"1\" class=\"dataframe\">\n",
       "  <thead>\n",
       "    <tr style=\"text-align: right;\">\n",
       "      <th></th>\n",
       "      <th>embedding_1</th>\n",
       "      <th>embedding_2</th>\n",
       "      <th>embedding_3</th>\n",
       "      <th>embedding_4</th>\n",
       "      <th>embedding_5</th>\n",
       "    </tr>\n",
       "  </thead>\n",
       "  <tbody>\n",
       "    <tr>\n",
       "      <th>0</th>\n",
       "      <td>-0.010022</td>\n",
       "      <td>0.748306</td>\n",
       "      <td>-0.009012</td>\n",
       "      <td>-0.024052</td>\n",
       "      <td>0.000409</td>\n",
       "    </tr>\n",
       "    <tr>\n",
       "      <th>1</th>\n",
       "      <td>-0.010011</td>\n",
       "      <td>0.747651</td>\n",
       "      <td>-0.009005</td>\n",
       "      <td>-0.024004</td>\n",
       "      <td>0.000415</td>\n",
       "    </tr>\n",
       "    <tr>\n",
       "      <th>2</th>\n",
       "      <td>-0.009993</td>\n",
       "      <td>0.746609</td>\n",
       "      <td>-0.008992</td>\n",
       "      <td>-0.023927</td>\n",
       "      <td>0.000425</td>\n",
       "    </tr>\n",
       "    <tr>\n",
       "      <th>3</th>\n",
       "      <td>-0.009983</td>\n",
       "      <td>0.745863</td>\n",
       "      <td>-0.008985</td>\n",
       "      <td>-0.023875</td>\n",
       "      <td>0.000428</td>\n",
       "    </tr>\n",
       "    <tr>\n",
       "      <th>4</th>\n",
       "      <td>-0.009980</td>\n",
       "      <td>0.745595</td>\n",
       "      <td>-0.008984</td>\n",
       "      <td>-0.023857</td>\n",
       "      <td>0.000428</td>\n",
       "    </tr>\n",
       "  </tbody>\n",
       "</table>\n",
       "</div>"
      ],
      "text/plain": [
       "   embedding_1  embedding_2  embedding_3  embedding_4  embedding_5\n",
       "0    -0.010022     0.748306    -0.009012    -0.024052     0.000409\n",
       "1    -0.010011     0.747651    -0.009005    -0.024004     0.000415\n",
       "2    -0.009993     0.746609    -0.008992    -0.023927     0.000425\n",
       "3    -0.009983     0.745863    -0.008985    -0.023875     0.000428\n",
       "4    -0.009980     0.745595    -0.008984    -0.023857     0.000428"
      ]
     },
     "execution_count": 22,
     "metadata": {},
     "output_type": "execute_result"
    }
   ],
   "source": [
    "embeddings_df.head()"
   ]
  },
  {
   "cell_type": "markdown",
   "metadata": {},
   "source": [
    "## a) t-SNE Visualization on a sample"
   ]
  },
  {
   "cell_type": "code",
   "execution_count": null,
   "metadata": {
    "ExecuteTime": {
     "end_time": "2025-05-14T06:20:06.525184Z",
     "start_time": "2025-05-14T06:20:04.554544Z"
    }
   },
   "outputs": [
    {
     "name": "stdout",
     "output_type": "stream",
     "text": [
      "\n",
      "Performing t-SNE on 5000 samples...\n"
     ]
    },
    {
     "data": {
      "image/png": "[encoded data removed]",
      "text/plain": [
       "<Figure size 1000x800 with 1 Axes>"
      ]
     },
     "metadata": {},
     "output_type": "display_data"
    }
   ],
   "source": [
    "num_samples_for_tsne = min(5000, len(final_embeddings_np)) \n",
    "print(f\"\\nPerforming t-SNE on {num_samples_for_tsne} samples...\")\n",
    "sample_indices = np.random.choice(len(final_embeddings_np), size=num_samples_for_tsne, replace=False)\n",
    "tsne_embeddings = TSNE(n_components=2, perplexity=30, max_iter=300, init='pca', learning_rate='auto', random_state=42).fit_transform(final_embeddings_np[sample_indices])\n",
    "\n",
    "plt.figure(figsize=(10, 8))\n",
    "plt.scatter(tsne_embeddings[:, 0], tsne_embeddings[:, 1], s=5, alpha=0.6)\n",
    "# plt.title(f't-SNE of VAE-DTW Latent Space (Mu Embeddings) - {num_samples_for_tsne} samples')\n",
    "plt.xlabel('t-SNE Component 1')\n",
    "plt.ylabel('t-SNE Component 2')\n",
    "plt.grid(True, linestyle='--', alpha=0.7)\n",
    "plt.show()\n"
   ]
  },
  {
   "cell_type": "markdown",
   "metadata": {},
   "source": [
    "## b) Silhouette Score using KMeans as a proxy for clustering quality"
   ]
  },
  {
   "cell_type": "code",
   "execution_count": null,
   "metadata": {
    "ExecuteTime": {
     "end_time": "2025-05-14T06:20:23.811473Z",
     "start_time": "2025-05-14T06:20:06.525635Z"
    }
   },
   "outputs": [
    {
     "name": "stdout",
     "output_type": "stream",
     "text": [
      "\n",
      "Calculating Silhouette Score using MiniBatchKMeans (k=70) on 50000 samples...\n",
      "Silhouette Score (k=70, 50000 samples): 0.5411\n"
     ]
    }
   ],
   "source": [
    "# The number of clusters (n_clusters_kmeans) is a hyperparameter here.\n",
    "n_clusters_kmeans = 70 \n",
    "num_samples_for_silhouette = min(50000, len(final_embeddings_np)) \n",
    "\n",
    "if len(final_embeddings_np) >= n_clusters_kmeans and len(final_embeddings_np) > 1: \n",
    "    print(f\"\\nCalculating Silhouette Score using MiniBatchKMeans (k={n_clusters_kmeans}) on {num_samples_for_silhouette} samples...\")\n",
    "    if num_samples_for_silhouette < len(final_embeddings_np):\n",
    "        sample_indices_silhouette = np.random.choice(len(final_embeddings_np), size=num_samples_for_silhouette, replace=False)\n",
    "        embeddings_for_silhouette = final_embeddings_np[sample_indices_silhouette]\n",
    "    else:\n",
    "        embeddings_for_silhouette = final_embeddings_np\n",
    "\n",
    "    try:\n",
    "        kmeans = MiniBatchKMeans(n_clusters=n_clusters_kmeans, batch_size=max(256, BATCH_SIZE*2), n_init='auto', random_state=42).fit(embeddings_for_silhouette)\n",
    "        labels_kmeans = kmeans.labels_\n",
    "        if len(np.unique(labels_kmeans)) > 1: \n",
    "            silhouette_avg = silhouette_score(embeddings_for_silhouette, labels_kmeans)\n",
    "            print(f\"Silhouette Score (k={n_clusters_kmeans}, {num_samples_for_silhouette} samples): {silhouette_avg:.4f}\")\n",
    "        else:\n",
    "            print(f\"KMeans produced only {len(np.unique(labels_kmeans))} cluster(s). Cannot calculate Silhouette Score.\")\n",
    "    except Exception as e:\n",
    "        print(f\"Error: {e}\")\n",
    "else:\n",
    "    print(f\"Skipping Silhouette Score calculation.\")\n"
   ]
  },
  {
   "cell_type": "markdown",
   "metadata": {},
   "source": [
    "# End"
   ]
  },
  {
   "cell_type": "markdown",
   "metadata": {},
   "source": []
  },
  {
   "cell_type": "code",
   "execution_count": 24,
   "metadata": {
    "ExecuteTime": {
     "end_time": "2025-05-14T06:20:23.813187Z",
     "start_time": "2025-05-14T06:20:23.811993Z"
    }
   },
   "outputs": [],
   "source": []
  }
 ],
 "metadata": {
  "kernelspec": {
   "display_name": "Python 3 (ipykernel)",
   "language": "python",
   "name": "python3"
  },
  "language_info": {
   "codemirror_mode": {
    "name": "ipython",
    "version": 3
   },
   "file_extension": ".py",
   "mimetype": "text/x-python",
   "name": "python",
   "nbconvert_exporter": "python",
   "pygments_lexer": "ipython3",
   "version": "3.11.11"
  }
 },
 "nbformat": 4,
 "nbformat_minor": 2
}
