{
 "cells": [
  {
   "cell_type": "markdown",
   "id": "a5556a4e7f405c1b",
   "metadata": {},
   "source": [
    "# Imports"
   ]
  },
  {
   "cell_type": "code",
   "execution_count": 1,
   "id": "initial_id",
   "metadata": {
    "ExecuteTime": {
     "end_time": "2025-05-14T04:47:13.887783Z",
     "start_time": "2025-05-14T04:47:13.885603Z"
    },
    "collapsed": true
   },
   "outputs": [],
   "source": [
    "from sklearn.neighbors import NearestNeighbors\n",
    "import numpy as np\n",
    "import pandas as pd\n",
    "from dtaidistance import dtw # For DTW calculation\n",
    "# from scipy.sparse import coo_matrix\n",
    "import igraph as ig\n",
    "import leidenalg\n",
    "import matplotlib.pyplot as plt"
   ]
  },
  {
   "cell_type": "markdown",
   "id": "59f9192fafcaf2fc",
   "metadata": {},
   "source": [
    "# Load Embeddings Data"
   ]
  },
  {
   "cell_type": "code",
   "execution_count": 2,
   "id": "e16db64034c14ae",
   "metadata": {
    "ExecuteTime": {
     "end_time": "2025-05-14T04:47:14.112996Z",
     "start_time": "2025-05-14T04:47:13.907491Z"
    }
   },
   "outputs": [
    {
     "data": {
      "text/html": [
       "<div>\n",
       "<style scoped>\n",
       "    .dataframe tbody tr th:only-of-type {\n",
       "        vertical-align: middle;\n",
       "    }\n",
       "\n",
       "    .dataframe tbody tr th {\n",
       "        vertical-align: top;\n",
       "    }\n",
       "\n",
       "    .dataframe thead th {\n",
       "        text-align: right;\n",
       "    }\n",
       "</style>\n",
       "<table border=\"1\" class=\"dataframe\">\n",
       "  <thead>\n",
       "    <tr style=\"text-align: right;\">\n",
       "      <th></th>\n",
       "      <th>embedding_1</th>\n",
       "      <th>embedding_2</th>\n",
       "      <th>embedding_3</th>\n",
       "      <th>embedding_4</th>\n",
       "      <th>embedding_5</th>\n",
       "    </tr>\n",
       "  </thead>\n",
       "  <tbody>\n",
       "    <tr>\n",
       "      <th>0</th>\n",
       "      <td>-0.010022</td>\n",
       "      <td>0.748306</td>\n",
       "      <td>-0.009012</td>\n",
       "      <td>-0.024052</td>\n",
       "      <td>0.000409</td>\n",
       "    </tr>\n",
       "    <tr>\n",
       "      <th>1</th>\n",
       "      <td>-0.010011</td>\n",
       "      <td>0.747651</td>\n",
       "      <td>-0.009005</td>\n",
       "      <td>-0.024004</td>\n",
       "      <td>0.000415</td>\n",
       "    </tr>\n",
       "    <tr>\n",
       "      <th>2</th>\n",
       "      <td>-0.009993</td>\n",
       "      <td>0.746609</td>\n",
       "      <td>-0.008992</td>\n",
       "      <td>-0.023927</td>\n",
       "      <td>0.000425</td>\n",
       "    </tr>\n",
       "    <tr>\n",
       "      <th>3</th>\n",
       "      <td>-0.009983</td>\n",
       "      <td>0.745863</td>\n",
       "      <td>-0.008985</td>\n",
       "      <td>-0.023875</td>\n",
       "      <td>0.000428</td>\n",
       "    </tr>\n",
       "    <tr>\n",
       "      <th>4</th>\n",
       "      <td>-0.009980</td>\n",
       "      <td>0.745595</td>\n",
       "      <td>-0.008984</td>\n",
       "      <td>-0.023857</td>\n",
       "      <td>0.000428</td>\n",
       "    </tr>\n",
       "    <tr>\n",
       "      <th>...</th>\n",
       "      <td>...</td>\n",
       "      <td>...</td>\n",
       "      <td>...</td>\n",
       "      <td>...</td>\n",
       "      <td>...</td>\n",
       "    </tr>\n",
       "    <tr>\n",
       "      <th>759784</th>\n",
       "      <td>0.011845</td>\n",
       "      <td>-0.683285</td>\n",
       "      <td>0.011099</td>\n",
       "      <td>0.022910</td>\n",
       "      <td>-0.000127</td>\n",
       "    </tr>\n",
       "    <tr>\n",
       "      <th>759785</th>\n",
       "      <td>0.011841</td>\n",
       "      <td>-0.683159</td>\n",
       "      <td>0.011097</td>\n",
       "      <td>0.022906</td>\n",
       "      <td>-0.000117</td>\n",
       "    </tr>\n",
       "    <tr>\n",
       "      <th>759786</th>\n",
       "      <td>0.011845</td>\n",
       "      <td>-0.682448</td>\n",
       "      <td>0.011072</td>\n",
       "      <td>0.022875</td>\n",
       "      <td>-0.000137</td>\n",
       "    </tr>\n",
       "    <tr>\n",
       "      <th>759787</th>\n",
       "      <td>0.011846</td>\n",
       "      <td>-0.681944</td>\n",
       "      <td>0.011056</td>\n",
       "      <td>0.022859</td>\n",
       "      <td>-0.000146</td>\n",
       "    </tr>\n",
       "    <tr>\n",
       "      <th>759788</th>\n",
       "      <td>0.011839</td>\n",
       "      <td>-0.681327</td>\n",
       "      <td>0.011046</td>\n",
       "      <td>0.022861</td>\n",
       "      <td>-0.000136</td>\n",
       "    </tr>\n",
       "  </tbody>\n",
       "</table>\n",
       "<p>759789 rows × 5 columns</p>\n",
       "</div>"
      ],
      "text/plain": [
       "        embedding_1  embedding_2  embedding_3  embedding_4  embedding_5\n",
       "0         -0.010022     0.748306    -0.009012    -0.024052     0.000409\n",
       "1         -0.010011     0.747651    -0.009005    -0.024004     0.000415\n",
       "2         -0.009993     0.746609    -0.008992    -0.023927     0.000425\n",
       "3         -0.009983     0.745863    -0.008985    -0.023875     0.000428\n",
       "4         -0.009980     0.745595    -0.008984    -0.023857     0.000428\n",
       "...             ...          ...          ...          ...          ...\n",
       "759784     0.011845    -0.683285     0.011099     0.022910    -0.000127\n",
       "759785     0.011841    -0.683159     0.011097     0.022906    -0.000117\n",
       "759786     0.011845    -0.682448     0.011072     0.022875    -0.000137\n",
       "759787     0.011846    -0.681944     0.011056     0.022859    -0.000146\n",
       "759788     0.011839    -0.681327     0.011046     0.022861    -0.000136\n",
       "\n",
       "[759789 rows x 5 columns]"
      ]
     },
     "execution_count": 2,
     "metadata": {},
     "output_type": "execute_result"
    }
   ],
   "source": [
    "SYMBOL = 'BTCUSDT'\n",
    "window_size = 20\n",
    "stride = 5 \n",
    "\n",
    "embeddings_df = pd.read_csv(f'data/embeddings/embed_vae_dtw_shape_{SYMBOL}_ws{window_size}_ld{stride}.csv')\n",
    "embeddings_df"
   ]
  },
  {
   "cell_type": "code",
   "execution_count": 3,
   "id": "b23bfba3cabe4a0e",
   "metadata": {
    "ExecuteTime": {
     "end_time": "2025-05-14T04:47:14.117657Z",
     "start_time": "2025-05-14T04:47:14.113718Z"
    }
   },
   "outputs": [
    {
     "data": {
      "text/plain": [
       "array([[-1.00217685e-02,  7.48305857e-01, -9.01220646e-03,\n",
       "        -2.40518525e-02,  4.09349916e-04],\n",
       "       [-1.00111999e-02,  7.47651339e-01, -9.00496915e-03,\n",
       "        -2.40043104e-02,  4.14570910e-04],\n",
       "       [-9.99309868e-03,  7.46608555e-01, -8.99225194e-03,\n",
       "        -2.39274278e-02,  4.24560276e-04],\n",
       "       ...,\n",
       "       [ 1.18449330e-02, -6.82447553e-01,  1.10718803e-02,\n",
       "         2.28745136e-02, -1.37303257e-04],\n",
       "       [ 1.18460469e-02, -6.81943834e-01,  1.10562211e-02,\n",
       "         2.28586700e-02, -1.46100647e-04],\n",
       "       [ 1.18385591e-02, -6.81326926e-01,  1.10458918e-02,\n",
       "         2.28612144e-02, -1.36219780e-04]],\n",
       "      shape=(759789, 5), dtype=float32)"
      ]
     },
     "execution_count": 3,
     "metadata": {},
     "output_type": "execute_result"
    }
   ],
   "source": [
    "embeddings = embeddings_df.values.astype(np.float32)\n",
    "embeddings"
   ]
  },
  {
   "cell_type": "markdown",
   "id": "33890cc21906a1f7",
   "metadata": {},
   "source": [
    "# k-NN Similarity Graph for Local Adjacency"
   ]
  },
  {
   "cell_type": "code",
   "execution_count": 4,
   "id": "c5eb79a93327ac5f",
   "metadata": {
    "ExecuteTime": {
     "end_time": "2025-05-14T04:47:18.513248Z",
     "start_time": "2025-05-14T04:47:14.117988Z"
    }
   },
   "outputs": [],
   "source": [
    "k = 50\n",
    "nbrs = NearestNeighbors(n_neighbors=k, n_jobs=-1).fit(embeddings)\n",
    "neigh_dist, neigh_ind = nbrs.kneighbors(embeddings)  "
   ]
  },
  {
   "cell_type": "code",
   "execution_count": 5,
   "id": "709ee7c6dd44d870",
   "metadata": {
    "ExecuteTime": {
     "end_time": "2025-05-14T04:47:20.942031Z",
     "start_time": "2025-05-14T04:47:18.514093Z"
    }
   },
   "outputs": [],
   "source": [
    "# build directed edge lists\n",
    "rows = np.repeat(np.arange(len(embeddings)), k)\n",
    "cols = neigh_ind.flatten()\n",
    "\n",
    "# compute bandwidth\n",
    "sigma = np.mean(neigh_dist[:, -1])\n",
    "\n",
    "# compute weights\n",
    "diffs = embeddings[rows] - embeddings[cols]          # shape (N*k, dim)\n",
    "sqd = np.sum(diffs * diffs, axis=1)                  # squared distances\n",
    "edge_weights = np.exp(-sqd / (2 * sigma**2))         # shape (N*k,)\n",
    "\n",
    "# symmetrize to make the graph undirected\n",
    "rows_sym = np.concatenate([rows, cols])\n",
    "cols_sym = np.concatenate([cols, rows])\n",
    "weights_sym = np.concatenate([edge_weights, edge_weights])\n",
    "\n",
    "# W = coo_matrix((weights_sym, (rows_sym, cols_sym)), shape=(len(embeddings), len(embeddings)))"
   ]
  },
  {
   "cell_type": "markdown",
   "id": "d927848d71ba14e",
   "metadata": {},
   "source": [
    "# Leiden Community Detection"
   ]
  },
  {
   "cell_type": "code",
   "execution_count": 6,
   "id": "dcc8491f1ec9b5f1",
   "metadata": {
    "ExecuteTime": {
     "end_time": "2025-05-14T04:47:47.328051Z",
     "start_time": "2025-05-14T04:47:20.944574Z"
    }
   },
   "outputs": [],
   "source": [
    "# Build a graph from sparse representation\n",
    "g = ig.Graph(\n",
    "    n=len(embeddings),\n",
    "    edges=list(zip(rows_sym.tolist(), cols_sym.tolist())),\n",
    "    directed=False\n",
    ")"
   ]
  },
  {
   "cell_type": "code",
   "execution_count": 7,
   "id": "951d81f1b83bcfe6",
   "metadata": {
    "ExecuteTime": {
     "end_time": "2025-05-14T04:47:48.959837Z",
     "start_time": "2025-05-14T04:47:47.340668Z"
    }
   },
   "outputs": [],
   "source": [
    "g.es['weight'] = weights_sym.tolist()"
   ]
  },
  {
   "cell_type": "code",
   "execution_count": 8,
   "id": "8758ee014666ccb7",
   "metadata": {
    "ExecuteTime": {
     "end_time": "2025-05-14T04:50:11.704544Z",
     "start_time": "2025-05-14T04:47:49.006339Z"
    }
   },
   "outputs": [],
   "source": [
    "# Leiden\n",
    "partition = leidenalg.find_partition(\n",
    "    g,\n",
    "    leidenalg.RBConfigurationVertexPartition,\n",
    "    weights='weight',\n",
    "    resolution_parameter=1.0\n",
    ")\n",
    "labels = np.array(partition.membership) "
   ]
  },
  {
   "cell_type": "code",
   "execution_count": 9,
   "id": "80da7cb5608d088f",
   "metadata": {
    "ExecuteTime": {
     "end_time": "2025-05-14T04:50:11.852540Z",
     "start_time": "2025-05-14T04:50:11.705286Z"
    }
   },
   "outputs": [
    {
     "data": {
      "text/plain": [
       "array([181, 278, 278, ...,  69,  69,  69], shape=(759789,))"
      ]
     },
     "execution_count": 9,
     "metadata": {},
     "output_type": "execute_result"
    }
   ],
   "source": [
    "pd.Series(labels).to_csv(\n",
    "    f'data/communities/labels_{SYMBOL}_ws={window_size}_stride={stride}.csv',\n",
    "    index=False,\n",
    "    header=False\n",
    ")\n",
    "labels"
   ]
  },
  {
   "cell_type": "markdown",
   "id": "33cde8bda799ac49",
   "metadata": {},
   "source": [
    "# Inspect and Filter Communities"
   ]
  },
  {
   "cell_type": "code",
   "execution_count": 10,
   "id": "876c4b5fbf83b6c",
   "metadata": {
    "ExecuteTime": {
     "end_time": "2025-05-14T04:50:11.864428Z",
     "start_time": "2025-05-14T04:50:11.854371Z"
    }
   },
   "outputs": [
    {
     "name": "stdout",
     "output_type": "stream",
     "text": [
      "Found 6761 communities.\n"
     ]
    }
   ],
   "source": [
    "unique, counts = np.unique(labels, return_counts=True)\n",
    "print(\"Found\", unique.size, \"communities.\")"
   ]
  },
  {
   "cell_type": "code",
   "execution_count": 11,
   "id": "e509ded7aac8a62d",
   "metadata": {
    "ExecuteTime": {
     "end_time": "2025-05-14T04:50:11.866466Z",
     "start_time": "2025-05-14T04:50:11.864819Z"
    }
   },
   "outputs": [
    {
     "data": {
      "text/plain": [
       "array([   0,    1,    2, ..., 6758, 6759, 6760], shape=(6761,))"
      ]
     },
     "execution_count": 11,
     "metadata": {},
     "output_type": "execute_result"
    }
   ],
   "source": [
    "unique"
   ]
  },
  {
   "cell_type": "code",
   "execution_count": 12,
   "id": "b0c2c6db5c914538",
   "metadata": {
    "ExecuteTime": {
     "end_time": "2025-05-14T04:50:11.874604Z",
     "start_time": "2025-05-14T04:50:11.868189Z"
    }
   },
   "outputs": [
    {
     "data": {
      "text/plain": [
       "(array([3439, 3370, 3268, ...,    1,    1,    1], shape=(6761,)), np.True_)"
      ]
     },
     "execution_count": 12,
     "metadata": {},
     "output_type": "execute_result"
    }
   ],
   "source": [
    "counts, sum(counts) == len(embeddings)"
   ]
  },
  {
   "cell_type": "code",
   "execution_count": 13,
   "id": "d05aad627cb1eac5",
   "metadata": {
    "ExecuteTime": {
     "end_time": "2025-05-14T04:50:11.882058Z",
     "start_time": "2025-05-14T04:50:11.875087Z"
    }
   },
   "outputs": [
    {
     "name": "stdout",
     "output_type": "stream",
     "text": [
      "Number of values equal to 1: 6035\n"
     ]
    }
   ],
   "source": [
    "print(f\"Number of values equal to 1: {len(counts[counts == 1])}\")"
   ]
  },
  {
   "cell_type": "code",
   "execution_count": 14,
   "id": "24683ae31e5e53f5",
   "metadata": {
    "ExecuteTime": {
     "end_time": "2025-05-14T04:50:12.515937Z",
     "start_time": "2025-05-14T04:50:11.882514Z"
    }
   },
   "outputs": [
    {
     "data": {
      "image/png": "[encoded data removed]",
      "text/plain": [
       "<Figure size 1200x600 with 1 Axes>"
      ]
     },
     "metadata": {},
     "output_type": "display_data"
    }
   ],
   "source": [
    "plt.figure(figsize=(12, 6))\n",
    "\n",
    "plt.hist(counts, bins=50, edgecolor='black')\n",
    "plt.title('Histogram of Counts')\n",
    "plt.xlabel('Number of members of communities')\n",
    "plt.ylabel('Frequency of membership')\n",
    "plt.yscale('log')"
   ]
  },
  {
   "cell_type": "code",
   "execution_count": 15,
   "id": "4fc7632710e40f73",
   "metadata": {
    "ExecuteTime": {
     "end_time": "2025-05-14T04:50:12.518071Z",
     "start_time": "2025-05-14T04:50:12.516649Z"
    }
   },
   "outputs": [],
   "source": [
    "# what if I analyze a text and see the distribution of its words?\n",
    "# Make sure about the k-NN (i.e. how the words are similar)"
   ]
  },
  {
   "cell_type": "code",
   "execution_count": 16,
   "id": "aad335cdc4f7fc37",
   "metadata": {
    "ExecuteTime": {
     "end_time": "2025-05-14T04:50:12.530117Z",
     "start_time": "2025-05-14T04:50:12.518465Z"
    }
   },
   "outputs": [],
   "source": [
    "# drop tiny noise‐like groups\n",
    "min_size = 100\n",
    "keep = unique[counts >= min_size]\n",
    "mask = np.isin(labels, keep)\n",
    "filtered_labels = np.where(mask, labels, -1)  # −1 = “noise”"
   ]
  },
  {
   "cell_type": "code",
   "execution_count": 17,
   "id": "10c679b0",
   "metadata": {
    "ExecuteTime": {
     "end_time": "2025-05-14T04:50:12.532698Z",
     "start_time": "2025-05-14T04:50:12.530763Z"
    }
   },
   "outputs": [
    {
     "data": {
      "text/plain": [
       "(363, 759789, 759789)"
      ]
     },
     "execution_count": 17,
     "metadata": {},
     "output_type": "execute_result"
    }
   ],
   "source": [
    "keep.size, mask.size, filtered_labels.size"
   ]
  },
  {
   "cell_type": "code",
   "execution_count": 18,
   "id": "4829af8a",
   "metadata": {
    "ExecuteTime": {
     "end_time": "2025-05-14T04:50:12.538910Z",
     "start_time": "2025-05-14T04:50:12.533066Z"
    }
   },
   "outputs": [],
   "source": [
    "pd.Series(keep).to_csv(\n",
    "    f'data/communities/keep_{SYMBOL}_ws={window_size}_stride={stride}.csv',\n",
    "    index=False,\n",
    "    header=False\n",
    ")"
   ]
  },
  {
   "cell_type": "markdown",
   "id": "29fdf7596c3d4e76",
   "metadata": {},
   "source": [
    "# Compute motif centroids"
   ]
  },
  {
   "cell_type": "code",
   "execution_count": 19,
   "id": "e313c66709bff16b",
   "metadata": {
    "ExecuteTime": {
     "end_time": "2025-05-14T04:50:13.301803Z",
     "start_time": "2025-05-14T04:50:12.539306Z"
    }
   },
   "outputs": [],
   "source": [
    "K = keep.size\n",
    "centroids = np.zeros((K, embeddings.shape[1]))\n",
    "for new_id, old_id in enumerate(keep):\n",
    "    centroids[new_id] = embeddings[filtered_labels == old_id].mean(axis=0)\n",
    "# remap labels from old_id to new_id \n",
    "label_map = {old_id: new_id for new_id, old_id in enumerate(keep)}\n",
    "node_labels = np.array([label_map[l] if l in label_map else -1\n",
    "                        for l in filtered_labels])"
   ]
  },
  {
   "cell_type": "code",
   "execution_count": 20,
   "id": "c9ce6bd4",
   "metadata": {
    "ExecuteTime": {
     "end_time": "2025-05-14T04:50:13.310039Z",
     "start_time": "2025-05-14T04:50:13.302389Z"
    }
   },
   "outputs": [],
   "source": [
    "pd.DataFrame(centroids).to_csv(\n",
    "    f'data/communities/centroids_{SYMBOL}_ws={window_size}_stride={stride}.csv',\n",
    "    index=False,\n",
    "    header=False\n",
    ")"
   ]
  },
  {
   "cell_type": "code",
   "execution_count": 21,
   "id": "deee1a5760ab0fe9",
   "metadata": {
    "ExecuteTime": {
     "end_time": "2025-05-14T04:50:13.398078Z",
     "start_time": "2025-05-14T04:50:13.310491Z"
    }
   },
   "outputs": [],
   "source": [
    "node_labels\n",
    "pd.Series(node_labels).to_csv(\n",
    "    f'data/communities/node_labels_{SYMBOL}_ws={window_size}_stride={stride}.csv',\n",
    "    index=False,\n",
    "    header=False\n",
    ")"
   ]
  },
  {
   "cell_type": "code",
   "execution_count": null,
   "id": "4dade045161fc046",
   "metadata": {
    "ExecuteTime": {
     "end_time": "2025-05-14T04:50:13.399952Z",
     "start_time": "2025-05-14T04:50:13.398719Z"
    }
   },
   "outputs": [],
   "source": []
  }
 ],
 "metadata": {
  "kernelspec": {
   "display_name": "Python 3 (ipykernel)",
   "language": "python",
   "name": "python3"
  },
  "language_info": {
   "codemirror_mode": {
    "name": "ipython",
    "version": 3
   },
   "file_extension": ".py",
   "mimetype": "text/x-python",
   "name": "python",
   "nbconvert_exporter": "python",
   "pygments_lexer": "ipython3",
   "version": "3.11.11"
  }
 },
 "nbformat": 4,
 "nbformat_minor": 5
}
